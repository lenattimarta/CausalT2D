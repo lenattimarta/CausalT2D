{
 "cells": [
  {
   "cell_type": "markdown",
   "id": "d6ad2835",
   "metadata": {},
   "source": [
    "### Code for analysing improved patients i.e., patients considered at high risk in the factual world (no intervention) and considered at low risk in the counterfactual world (lifestyle intervention)\n",
    "(Counterfactual inference is performed separately on 4 different groups of subjects: females < 65 years, males <65 years, females >65 years and males > 65 years)\n",
    "<li> run CountDiscreteCombinations.ipynb to retrieve the number of patients for each unique features combination </li>\n",
    "<li> run ReadSimulationsBatch.ipynb to retrieve the subset of improved patients in each batch of simulations</li>\n",
    "<li> total number of improved patients (nI=491) </li>"
   ]
  },
  {
   "cell_type": "code",
   "execution_count": 1,
   "id": "89b169a0",
   "metadata": {},
   "outputs": [],
   "source": [
    "import pandas as pd\n",
    "import numpy as np"
   ]
  },
  {
   "cell_type": "markdown",
   "id": "bcfdd36f",
   "metadata": {},
   "source": [
    "#### Subgroup 1"
   ]
  },
  {
   "cell_type": "code",
   "execution_count": null,
   "id": "42f70fdd",
   "metadata": {},
   "outputs": [],
   "source": [
    "i1=pd.read_csv(r'improved\\df_improved_g1.csv', delimiter=',') #each row describes a unique combination of input features\n",
    "i1= i1.drop([\"Unnamed: 0\",'Pdiabetes_min','Pdiabetes_max','Pdiabetes_star_min','Pdiabetes_star_max','Pdelta_min','Pdelta_max','out_R','out_C'], axis=1)\n",
    "i1.head()"
   ]
  },
  {
   "cell_type": "code",
   "execution_count": null,
   "id": "03f86e48",
   "metadata": {},
   "outputs": [],
   "source": [
    "# retrieve the number of patients in p1 for each combination of input features\n",
    "i1_patients = i1.loc[i1.index.repeat(i1['count'])].drop('count', axis=1).reset_index(drop=True) #each row describes a single patient\n",
    "print(i1_patients)\n",
    "#Distribution of features in categories\n",
    "for col in i1_patients.columns:\n",
    "    print(\"Value counts for column \\033[1m'{}'\\033[0m:\".format(col))\n",
    "    print(i1_patients[col].value_counts().sort_index())"
   ]
  },
  {
   "cell_type": "code",
   "execution_count": 4,
   "id": "dfc1badf",
   "metadata": {},
   "outputs": [
    {
     "name": "stdout",
     "output_type": "stream",
     "text": [
      "\u001b[1mTotal # of improved patients in subgroup 1 \u001b[0m (119, 11)\n",
      "# improved patients with a change in \u001b[1mboth BMI and FBS \u001b[0m (33, 11)\n",
      "# improved patients with a change in \u001b[1mBMI category only \u001b[0m (49, 11)\n",
      "# improved patients with a change in \u001b[1mFBS category only\u001b[0m (37, 11)\n",
      "# improved patients with no change \u001b[1mneither in BMI nor in FBS\u001b[0m (0, 11)\n"
     ]
    }
   ],
   "source": [
    "#subgroup 1\n",
    "print('\\033[1mTotal # of improved patients in subgroup 1 \\033[0m',i1_patients.shape)\n",
    "print('# improved patients with a change in \\033[1mboth BMI and FBS \\033[0m', i1_patients.loc[(i1_patients['BMI']!=i1_patients['BMI_final'])&(i1_patients['FBS']!=i1_patients['FBS_final']),:].shape)\n",
    "print('# improved patients with a change in \\033[1mBMI category only \\033[0m',i1_patients.loc[(i1_patients['BMI']!=i1_patients['BMI_final'])&(i1_patients['FBS']==i1_patients['FBS_final']),:].shape)\n",
    "print('# improved patients with a change in \\033[1mFBS category only\\033[0m', i1_patients.loc[(i1_patients['BMI']==i1_patients['BMI_final'])&(i1_patients['FBS']!=i1_patients['FBS_final']),:].shape)\n",
    "print('# improved patients with no change \\033[1mneither in BMI nor in FBS\\033[0m',i1_patients.loc[(i1_patients['BMI']==i1_patients['BMI_final'])&(i1_patients['FBS']==i1_patients['FBS_final']),:].shape)"
   ]
  },
  {
   "cell_type": "markdown",
   "id": "dac1ba28",
   "metadata": {},
   "source": [
    "#### Subgroup 2"
   ]
  },
  {
   "cell_type": "code",
   "execution_count": null,
   "id": "f3b182d7",
   "metadata": {},
   "outputs": [],
   "source": [
    "i2=pd.read_csv(r'improved\\df_improved_g2.csv', delimiter=',')  #each row describes a unique combination of input features\n",
    "i2=i2.drop([\"Unnamed: 0\",'Pdiabetes_min','Pdiabetes_max','Pdiabetes_star_min','Pdiabetes_star_max','Pdelta_min','Pdelta_max','out_R','out_C'], axis=1)\n",
    "i2"
   ]
  },
  {
   "cell_type": "code",
   "execution_count": 6,
   "id": "52be61ad",
   "metadata": {},
   "outputs": [
    {
     "name": "stdout",
     "output_type": "stream",
     "text": [
      "     LDL  BMI  Pressure  Diabetes  TG  HDL  FBS  BMI_final  FBS_final  age  \\\n",
      "0      0    0         0         0   0    1    1          0          0  0.0   \n",
      "1      0    0         0         0   0    1    1          0          0  0.0   \n",
      "2      0    0         0         0   0    1    1          0          0  0.0   \n",
      "3      0    0         0         0   0    1    1          0          0  0.0   \n",
      "4      0    0         1         1   0    0    1          0          0  0.0   \n",
      "..   ...  ...       ...       ...  ..  ...  ...        ...        ...  ...   \n",
      "224    1    2         1         0   1    1    1          2          0  0.0   \n",
      "225    1    2         1         1   1    0    0          1          0  0.0   \n",
      "226    1    3         0         0   0    1    1          2          1  0.0   \n",
      "227    1    3         0         1   0    1    1          2          1  0.0   \n",
      "228    1    4         0         1   1    1    1          4          0  0.0   \n",
      "\n",
      "     sex  \n",
      "0    1.0  \n",
      "1    1.0  \n",
      "2    1.0  \n",
      "3    1.0  \n",
      "4    1.0  \n",
      "..   ...  \n",
      "224  1.0  \n",
      "225  1.0  \n",
      "226  1.0  \n",
      "227  1.0  \n",
      "228  1.0  \n",
      "\n",
      "[229 rows x 11 columns]\n",
      "Value counts for column \u001b[1m'LDL'\u001b[0m:\n",
      "0    215\n",
      "1     14\n",
      "Name: LDL, dtype: int64\n",
      "Value counts for column \u001b[1m'BMI'\u001b[0m:\n",
      "0      5\n",
      "1    141\n",
      "2     54\n",
      "3     17\n",
      "4     12\n",
      "Name: BMI, dtype: int64\n",
      "Value counts for column \u001b[1m'Pressure'\u001b[0m:\n",
      "0     39\n",
      "1    190\n",
      "Name: Pressure, dtype: int64\n",
      "Value counts for column \u001b[1m'Diabetes'\u001b[0m:\n",
      "0    215\n",
      "1     14\n",
      "Name: Diabetes, dtype: int64\n",
      "Value counts for column \u001b[1m'TG'\u001b[0m:\n",
      "0    174\n",
      "1     55\n",
      "Name: TG, dtype: int64\n",
      "Value counts for column \u001b[1m'HDL'\u001b[0m:\n",
      "0     46\n",
      "1    183\n",
      "Name: HDL, dtype: int64\n",
      "Value counts for column \u001b[1m'FBS'\u001b[0m:\n",
      "0     21\n",
      "1    208\n",
      "Name: FBS, dtype: int64\n",
      "Value counts for column \u001b[1m'BMI_final'\u001b[0m:\n",
      "0    94\n",
      "1    77\n",
      "2    37\n",
      "3    16\n",
      "4     5\n",
      "Name: BMI_final, dtype: int64\n",
      "Value counts for column \u001b[1m'FBS_final'\u001b[0m:\n",
      "0    161\n",
      "1     68\n",
      "Name: FBS_final, dtype: int64\n",
      "Value counts for column \u001b[1m'age'\u001b[0m:\n",
      "0.0    229\n",
      "Name: age, dtype: int64\n",
      "Value counts for column \u001b[1m'sex'\u001b[0m:\n",
      "1.0    229\n",
      "Name: sex, dtype: int64\n"
     ]
    }
   ],
   "source": [
    "# Create a new DataFrame by repeating rows based on the 'count' column\n",
    "i2_patients = i2.loc[i2.index.repeat(i2['count'])].drop('count', axis=1).reset_index(drop=True) #each row describes a single patient\n",
    "print(i2_patients)\n",
    "#Distribution of features in categories\n",
    "for col in i2_patients.columns:\n",
    "    print(\"Value counts for column \\033[1m'{}'\\033[0m:\".format(col))\n",
    "    print(i2_patients[col].value_counts().sort_index())"
   ]
  },
  {
   "cell_type": "code",
   "execution_count": 7,
   "id": "2f9675e3",
   "metadata": {},
   "outputs": [
    {
     "name": "stdout",
     "output_type": "stream",
     "text": [
      "\u001b[1mTotal # of improved patients in subgroup 2 \u001b[0m (229, 11)\n",
      "# improved patients with a change in \u001b[1mboth BMI and FBS \u001b[0m (40, 11)\n",
      "# improved patients with a change in \u001b[1mBMI category only \u001b[0m (89, 11)\n",
      "# improved patients with a change in \u001b[1mFBS category only\u001b[0m (100, 11)\n",
      "# improved patients with no change \u001b[1mneither in BMI nor in FBS\u001b[0m (0, 11)\n"
     ]
    }
   ],
   "source": [
    "#subgroup 2\n",
    "print('\\033[1mTotal # of improved patients in subgroup 2 \\033[0m',i2_patients.shape)\n",
    "print('# improved patients with a change in \\033[1mboth BMI and FBS \\033[0m', i2_patients.loc[(i2_patients['BMI']!=i2_patients['BMI_final'])&(i2_patients['FBS']!=i2_patients['FBS_final']),:].shape)\n",
    "print('# improved patients with a change in \\033[1mBMI category only \\033[0m',i2_patients.loc[(i2_patients['BMI']!=i2_patients['BMI_final'])&(i2_patients['FBS']==i2_patients['FBS_final']),:].shape)\n",
    "print('# improved patients with a change in \\033[1mFBS category only\\033[0m', i2_patients.loc[(i2_patients['BMI']==i2_patients['BMI_final'])&(i2_patients['FBS']!=i2_patients['FBS_final']),:].shape)\n",
    "print('# improved patients with no change \\033[1mneither in BMI nor in FBS\\033[0m',i2_patients.loc[(i2_patients['BMI']==i2_patients['BMI_final'])&(i2_patients['FBS']==i2_patients['FBS_final']),:].shape)"
   ]
  },
  {
   "cell_type": "markdown",
   "id": "bdc9c3f2",
   "metadata": {},
   "source": [
    "#### Subgroup 3"
   ]
  },
  {
   "cell_type": "code",
   "execution_count": null,
   "id": "467d2a90",
   "metadata": {},
   "outputs": [],
   "source": [
    "i3=pd.read_csv(r'improved\\df_improved_g3.csv', delimiter=',')  #each row describes a unique combination of input features\n",
    "i3=i3.drop([\"Unnamed: 0\",'Pdiabetes_min','Pdiabetes_max','Pdiabetes_star_min','Pdiabetes_star_max','Pdelta_min','Pdelta_max','out_R','out_C'], axis=1)\n",
    "i3"
   ]
  },
  {
   "cell_type": "code",
   "execution_count": 9,
   "id": "97269b06",
   "metadata": {},
   "outputs": [
    {
     "name": "stdout",
     "output_type": "stream",
     "text": [
      "Value counts for column \u001b[1m'LDL'\u001b[0m:\n",
      "0    68\n",
      "1    13\n",
      "Name: LDL, dtype: int64\n",
      "Value counts for column \u001b[1m'BMI'\u001b[0m:\n",
      "1    43\n",
      "2    16\n",
      "3    17\n",
      "4     5\n",
      "Name: BMI, dtype: int64\n",
      "Value counts for column \u001b[1m'Pressure'\u001b[0m:\n",
      "0    18\n",
      "1    63\n",
      "Name: Pressure, dtype: int64\n",
      "Value counts for column \u001b[1m'Diabetes'\u001b[0m:\n",
      "0    75\n",
      "1     6\n",
      "Name: Diabetes, dtype: int64\n",
      "Value counts for column \u001b[1m'TG'\u001b[0m:\n",
      "0    68\n",
      "1    13\n",
      "Name: TG, dtype: int64\n",
      "Value counts for column \u001b[1m'HDL'\u001b[0m:\n",
      "0    63\n",
      "1    18\n",
      "Name: HDL, dtype: int64\n",
      "Value counts for column \u001b[1m'FBS'\u001b[0m:\n",
      "0     4\n",
      "1    77\n",
      "Name: FBS, dtype: int64\n",
      "Value counts for column \u001b[1m'BMI_final'\u001b[0m:\n",
      "0    32\n",
      "1    19\n",
      "2    21\n",
      "3     8\n",
      "4     1\n",
      "Name: BMI_final, dtype: int64\n",
      "Value counts for column \u001b[1m'FBS_final'\u001b[0m:\n",
      "0    43\n",
      "1    38\n",
      "Name: FBS_final, dtype: int64\n",
      "Value counts for column \u001b[1m'age'\u001b[0m:\n",
      "1.0    81\n",
      "Name: age, dtype: int64\n",
      "Value counts for column \u001b[1m'sex'\u001b[0m:\n",
      "0.0    81\n",
      "Name: sex, dtype: int64\n"
     ]
    }
   ],
   "source": [
    "# Create a new DataFrame by repeating rows based on the 'count' column\n",
    "i3_patients = i3.loc[i3.index.repeat(i3['count'])].drop('count', axis=1).reset_index(drop=True) #each row describes a single patient\n",
    "#Distribution of features in categories\n",
    "for col in i3_patients.columns:\n",
    "    print(\"Value counts for column \\033[1m'{}'\\033[0m:\".format(col))\n",
    "    print(i3_patients[col].value_counts().sort_index())"
   ]
  },
  {
   "cell_type": "code",
   "execution_count": 10,
   "id": "6c7d2a13",
   "metadata": {},
   "outputs": [
    {
     "name": "stdout",
     "output_type": "stream",
     "text": [
      "\u001b[1mTotal # of improved patients in subgroup 3 \u001b[0m (81, 11)\n",
      "# improved patients with a change in \u001b[1mboth BMI and FBS \u001b[0m (15, 11)\n",
      "# improved patients with a change in \u001b[1mBMI category only \u001b[0m (42, 11)\n",
      "# improved patients with a change in \u001b[1mFBS category only\u001b[0m (24, 11)\n",
      "# improved patients with no change \u001b[1mneither in BMI nor in FBS\u001b[0m (0, 11)\n"
     ]
    }
   ],
   "source": [
    "#subgroup 3\n",
    "print('\\033[1mTotal # of improved patients in subgroup 3 \\033[0m',i3_patients.shape)\n",
    "print('# improved patients with a change in \\033[1mboth BMI and FBS \\033[0m', i3_patients.loc[(i3_patients['BMI']!=i3_patients['BMI_final'])&(i3_patients['FBS']!=i3_patients['FBS_final']),:].shape)\n",
    "print('# improved patients with a change in \\033[1mBMI category only \\033[0m',i3_patients.loc[(i3_patients['BMI']!=i3_patients['BMI_final'])&(i3_patients['FBS']==i3_patients['FBS_final']),:].shape)\n",
    "print('# improved patients with a change in \\033[1mFBS category only\\033[0m', i3_patients.loc[(i3_patients['BMI']==i3_patients['BMI_final'])&(i3_patients['FBS']!=i3_patients['FBS_final']),:].shape)\n",
    "print('# improved patients with no change \\033[1mneither in BMI nor in FBS\\033[0m',i3_patients.loc[(i3_patients['BMI']==i3_patients['BMI_final'])&(i3_patients['FBS']==i3_patients['FBS_final']),:].shape)"
   ]
  },
  {
   "cell_type": "markdown",
   "id": "96bb9864",
   "metadata": {},
   "source": [
    "#### Subgroup 4"
   ]
  },
  {
   "cell_type": "code",
   "execution_count": null,
   "id": "2580742a",
   "metadata": {},
   "outputs": [],
   "source": [
    "i4=pd.read_csv(r'improved\\df_improved_g4.csv', delimiter=',')  #each row describes a unique combination of input features\n",
    "i4=i4.drop([\"Unnamed: 0\",'Pdiabetes_min','Pdiabetes_max','Pdiabetes_star_min','Pdiabetes_star_max','Pdelta_min','Pdelta_max','out_R','out_C'], axis=1)\n",
    "i4"
   ]
  },
  {
   "cell_type": "code",
   "execution_count": 12,
   "id": "d98c314c",
   "metadata": {},
   "outputs": [
    {
     "name": "stdout",
     "output_type": "stream",
     "text": [
      "Value counts for column \u001b[1m'LDL'\u001b[0m:\n",
      "0    55\n",
      "1     7\n",
      "Name: LDL, dtype: int64\n",
      "Value counts for column \u001b[1m'BMI'\u001b[0m:\n",
      "1    35\n",
      "2    22\n",
      "3     3\n",
      "4     2\n",
      "Name: BMI, dtype: int64\n",
      "Value counts for column \u001b[1m'Pressure'\u001b[0m:\n",
      "0    31\n",
      "1    31\n",
      "Name: Pressure, dtype: int64\n",
      "Value counts for column \u001b[1m'Diabetes'\u001b[0m:\n",
      "0    56\n",
      "1     6\n",
      "Name: Diabetes, dtype: int64\n",
      "Value counts for column \u001b[1m'TG'\u001b[0m:\n",
      "0    51\n",
      "1    11\n",
      "Name: TG, dtype: int64\n",
      "Value counts for column \u001b[1m'HDL'\u001b[0m:\n",
      "0    30\n",
      "1    32\n",
      "Name: HDL, dtype: int64\n",
      "Value counts for column \u001b[1m'FBS'\u001b[0m:\n",
      "0     3\n",
      "1    59\n",
      "Name: FBS, dtype: int64\n",
      "Value counts for column \u001b[1m'BMI_final'\u001b[0m:\n",
      "0    24\n",
      "1    21\n",
      "2    13\n",
      "3     3\n",
      "4     1\n",
      "Name: BMI_final, dtype: int64\n",
      "Value counts for column \u001b[1m'FBS_final'\u001b[0m:\n",
      "0    41\n",
      "1    21\n",
      "Name: FBS_final, dtype: int64\n",
      "Value counts for column \u001b[1m'age'\u001b[0m:\n",
      "1.0    62\n",
      "Name: age, dtype: int64\n",
      "Value counts for column \u001b[1m'sex'\u001b[0m:\n",
      "1.0    62\n",
      "Name: sex, dtype: int64\n"
     ]
    }
   ],
   "source": [
    "# Create a new DataFrame by repeating rows based on the 'count' column\n",
    "i4_patients = i4.loc[i4.index.repeat(i4['count'])].drop('count', axis=1).reset_index(drop=True) #each row describes a single patient\n",
    "#Distribution of features in categories\n",
    "for col in i4_patients.columns:\n",
    "    print(\"Value counts for column \\033[1m'{}'\\033[0m:\".format(col))\n",
    "    print(i4_patients[col].value_counts().sort_index())"
   ]
  },
  {
   "cell_type": "code",
   "execution_count": 13,
   "id": "6d88d88b",
   "metadata": {},
   "outputs": [
    {
     "name": "stdout",
     "output_type": "stream",
     "text": [
      "\u001b[1mTotal # of improved patients in subgroup 4 \u001b[0m (62, 11)\n",
      "# improved patients with a change in \u001b[1mboth BMI and FBS \u001b[0m (12, 11)\n",
      "# improved patients with a change in \u001b[1mBMI category only \u001b[0m (24, 11)\n",
      "# improved patients with a change in \u001b[1mFBS category only\u001b[0m (26, 11)\n",
      "# improved patients with no change \u001b[1mneither in BMI nor in FBS\u001b[0m (0, 11)\n"
     ]
    }
   ],
   "source": [
    "#subgroup 4\n",
    "print('\\033[1mTotal # of improved patients in subgroup 4 \\033[0m',i4_patients.shape)\n",
    "print('# improved patients with a change in \\033[1mboth BMI and FBS \\033[0m', i4_patients.loc[(i4_patients['BMI']!=i4_patients['BMI_final'])&(i4_patients['FBS']!=i4_patients['FBS_final']),:].shape)\n",
    "print('# improved patients with a change in \\033[1mBMI category only \\033[0m',i4_patients.loc[(i4_patients['BMI']!=i4_patients['BMI_final'])&(i4_patients['FBS']==i4_patients['FBS_final']),:].shape)\n",
    "print('# improved patients with a change in \\033[1mFBS category only\\033[0m', i4_patients.loc[(i4_patients['BMI']==i4_patients['BMI_final'])&(i4_patients['FBS']!=i4_patients['FBS_final']),:].shape)\n",
    "print('# improved patients with no change \\033[1mneither in BMI nor in FBS\\033[0m',i4_patients.loc[(i4_patients['BMI']==i4_patients['BMI_final'])&(i4_patients['FBS']==i4_patients['FBS_final']),:].shape)"
   ]
  },
  {
   "cell_type": "markdown",
   "id": "80710a02",
   "metadata": {},
   "source": [
    "### Whole set of improved patients"
   ]
  },
  {
   "cell_type": "code",
   "execution_count": null,
   "id": "6f55c460",
   "metadata": {},
   "outputs": [],
   "source": [
    "print(i1_patients.shape)\n",
    "print(i2_patients.shape)\n",
    "print(i3_patients.shape)\n",
    "print(i4_patients.shape)\n",
    "df_tot=pd.concat([i1_patients,i2_patients,i3_patients,i4_patients])\n",
    "df_tot"
   ]
  },
  {
   "cell_type": "code",
   "execution_count": 15,
   "id": "0615b6de",
   "metadata": {},
   "outputs": [
    {
     "name": "stdout",
     "output_type": "stream",
     "text": [
      "\u001b[1mTotal # of improved patients\u001b[0m (491, 11)\n",
      "# improved patients with a change in \u001b[1mboth BMI and FBS \u001b[0m (100, 11)\n",
      "# improved patients with a change in \u001b[1mBMI category only \u001b[0m (204, 11)\n",
      "# improved patients with a change in \u001b[1mFBS category only\u001b[0m (187, 11)\n",
      "# improved patients with no change \u001b[1mneither in BMI nor in FBS\u001b[0m (0, 11)\n"
     ]
    }
   ],
   "source": [
    "print('\\033[1mTotal # of improved patients\\033[0m',df_tot.shape)\n",
    "print('# improved patients with a change in \\033[1mboth BMI and FBS \\033[0m',df_tot.loc[(df_tot['BMI']!=df_tot['BMI_final'])&(df_tot['FBS']!=df_tot['FBS_final']),:].shape)\n",
    "print('# improved patients with a change in \\033[1mBMI category only \\033[0m',df_tot.loc[(df_tot['BMI']!=df_tot['BMI_final'])&(df_tot['FBS']==df_tot['FBS_final']),:].shape)\n",
    "print('# improved patients with a change in \\033[1mFBS category only\\033[0m',df_tot.loc[(df_tot['BMI']==df_tot['BMI_final'])&(df_tot['FBS']!=df_tot['FBS_final']),:].shape)\n",
    "print('# improved patients with no change \\033[1mneither in BMI nor in FBS\\033[0m',df_tot.loc[(df_tot['BMI']==df_tot['BMI_final'])&(df_tot['FBS']==df_tot['FBS_final']),:].shape)"
   ]
  },
  {
   "cell_type": "code",
   "execution_count": 16,
   "id": "08f4f7cc",
   "metadata": {},
   "outputs": [
    {
     "name": "stdout",
     "output_type": "stream",
     "text": [
      "# improved patients with a change \u001b[1mat least in FBS\u001b[0m (287, 11) \n",
      "\n",
      "# improved patients with a change \u001b[1mat least in BMI\u001b[0m (304, 11)\n",
      "- # improved patients with transition 4->3 (17, 11)\n",
      "- # improved patients with transition 3->2 (25, 11)\n",
      "- # improved patients with transition 2->1 (82, 11)\n",
      "- # improved patients with transition 1->0 (180, 11)\n"
     ]
    }
   ],
   "source": [
    "print('# improved patients with a change \\033[1mat least in FBS\\033[0m',df_tot.loc[((df_tot['FBS']==1) & (df_tot['FBS_final']==0)),:].shape,'\\n')\n",
    "print('# improved patients with a change \\033[1mat least in BMI\\033[0m',df_tot.loc[(df_tot['BMI']!=df_tot['BMI_final']),:].shape)\n",
    "print('- # improved patients with transition 4->3',df_tot.loc[((df_tot['BMI']==4) & (df_tot['BMI_final']==3)),:].shape)\n",
    "print('- # improved patients with transition 3->2',df_tot.loc[((df_tot['BMI']==3) & (df_tot['BMI_final']==2)),:].shape)\n",
    "print('- # improved patients with transition 2->1',df_tot.loc[((df_tot['BMI']==2) & (df_tot['BMI_final']==1)),:].shape)\n",
    "print('- # improved patients with transition 1->0',df_tot.loc[((df_tot['BMI']==1) & (df_tot['BMI_final']==0)),:].shape)"
   ]
  },
  {
   "cell_type": "code",
   "execution_count": 17,
   "id": "d5c0d792",
   "metadata": {},
   "outputs": [
    {
     "name": "stdout",
     "output_type": "stream",
     "text": [
      "# improved patients with a change in \u001b[1mboth BMI and FBS \u001b[0m (100, 11)\n",
      "- # improved patients with transition 4->3 (3, 11)\n",
      "- # improved patients with transition 3->2 (7, 11)\n",
      "- # improved patients with transition 2->1 (51, 11)\n",
      "- # improved patients with transition 1->0 (39, 11)\n"
     ]
    }
   ],
   "source": [
    "print('# improved patients with a change in \\033[1mboth BMI and FBS \\033[0m',df_tot.loc[(df_tot['BMI']!=df_tot['BMI_final'])&(df_tot['FBS']!=df_tot['FBS_final']),:].shape)\n",
    "\n",
    "print('- # improved patients with transition 4->3',df_tot.loc[((df_tot['BMI']==4) & (df_tot['BMI_final']==3)& ((df_tot['FBS']==1) & (df_tot['FBS_final']==0))),:].shape)\n",
    "print('- # improved patients with transition 3->2',df_tot.loc[((df_tot['BMI']==3) & (df_tot['BMI_final']==2)&((df_tot['FBS']==1) & (df_tot['FBS_final']==0))),:].shape)\n",
    "print('- # improved patients with transition 2->1',df_tot.loc[((df_tot['BMI']==2) & (df_tot['BMI_final']==1)&((df_tot['FBS']==1) & (df_tot['FBS_final']==0))),:].shape)\n",
    "print('- # improved patients with transition 1->0',df_tot.loc[((df_tot['BMI']==1) & (df_tot['BMI_final']==0)&((df_tot['FBS']==1) & (df_tot['FBS_final']==0))),:].shape)"
   ]
  },
  {
   "cell_type": "code",
   "execution_count": 18,
   "id": "7eec6b0a",
   "metadata": {},
   "outputs": [
    {
     "name": "stdout",
     "output_type": "stream",
     "text": [
      "Value counts for column \u001b[1m'LDL'\u001b[0m:\n",
      "0    428\n",
      "1     63\n",
      "Name: LDL, dtype: int64\n",
      "Value counts for column \u001b[1m'BMI'\u001b[0m:\n",
      "0      6\n",
      "1    260\n",
      "2    148\n",
      "3     50\n",
      "4     27\n",
      "Name: BMI, dtype: int64\n",
      "Value counts for column \u001b[1m'Pressure'\u001b[0m:\n",
      "0    127\n",
      "1    364\n",
      "Name: Pressure, dtype: int64\n",
      "Value counts for column \u001b[1m'Diabetes'\u001b[0m:\n",
      "0    454\n",
      "1     37\n",
      "Name: Diabetes, dtype: int64\n",
      "Value counts for column \u001b[1m'TG'\u001b[0m:\n",
      "0    371\n",
      "1    120\n",
      "Name: TG, dtype: int64\n",
      "Value counts for column \u001b[1m'HDL'\u001b[0m:\n",
      "0    194\n",
      "1    297\n",
      "Name: HDL, dtype: int64\n",
      "Value counts for column \u001b[1m'FBS'\u001b[0m:\n",
      "0     44\n",
      "1    447\n",
      "Name: FBS, dtype: int64\n",
      "Value counts for column \u001b[1m'BMI_final'\u001b[0m:\n",
      "0    186\n",
      "1    162\n",
      "2     91\n",
      "3     42\n",
      "4     10\n",
      "Name: BMI_final, dtype: int64\n",
      "Value counts for column \u001b[1m'FBS_final'\u001b[0m:\n",
      "0    331\n",
      "1    160\n",
      "Name: FBS_final, dtype: int64\n",
      "Value counts for column \u001b[1m'age'\u001b[0m:\n",
      "0.0    348\n",
      "1.0    143\n",
      "Name: age, dtype: int64\n",
      "Value counts for column \u001b[1m'sex'\u001b[0m:\n",
      "0.0    200\n",
      "1.0    291\n",
      "Name: sex, dtype: int64\n"
     ]
    }
   ],
   "source": [
    "#Distribution of features in categories\n",
    "for col in df_tot.columns:\n",
    "    print(\"Value counts for column \\033[1m'{}'\\033[0m:\".format(col))\n",
    "    print(df_tot[col].value_counts().sort_index())"
   ]
  }
 ],
 "metadata": {
  "kernelspec": {
   "display_name": "Python 3 (ipykernel)",
   "language": "python",
   "name": "python3"
  },
  "language_info": {
   "codemirror_mode": {
    "name": "ipython",
    "version": 3
   },
   "file_extension": ".py",
   "mimetype": "text/x-python",
   "name": "python",
   "nbconvert_exporter": "python",
   "pygments_lexer": "ipython3",
   "version": "3.8.13"
  }
 },
 "nbformat": 4,
 "nbformat_minor": 5
}
