{
 "cells": [
  {
   "cell_type": "markdown",
   "id": "760e6117",
   "metadata": {},
   "source": [
    "### Code that counts the number of different combinations of features in the discretized Intervention dataset\n",
    "<li> Counterfactual inference is performed separately on 4 different groups of subjects: females < 65 years, males <65 years, females > 65 years and males > 65 years </li>\n",
    "<li> Since we use a discretized dataset, more than one patient may have the same combination of input features (i.e., same categorical values) </li>\n",
    "<li> patients with the same features combination yield the same T2D onset probability, hence a dataset including unique combinations of features is considered during counterfactual inference to speed up computation </li>\n"
   ]
  },
  {
   "cell_type": "code",
   "execution_count": null,
   "id": "fe326e15",
   "metadata": {},
   "outputs": [],
   "source": [
    "import pandas as pd\n",
    "import numpy as np"
   ]
  },
  {
   "cell_type": "code",
   "execution_count": null,
   "id": "8f0e2bec",
   "metadata": {},
   "outputs": [],
   "source": [
    "#read intervention set with the reduced set of features\n",
    "df=pd.read_csv(r'.\\test_data_intervention.csv',delimiter=',')\n",
    "df"
   ]
  },
  {
   "cell_type": "code",
   "execution_count": null,
   "id": "5fe2251c",
   "metadata": {},
   "outputs": [],
   "source": [
    "df.columns"
   ]
  },
  {
   "cell_type": "code",
   "execution_count": null,
   "id": "b53b4294",
   "metadata": {},
   "outputs": [],
   "source": [
    "#binarize all features except for FPG and BMI. \n",
    "#BMI passes from 6 to 5 levels as 'Underweight' category is excluded due to DPP trial exclusion criteria\n",
    "df.loc[df['age'] <2, 'age'] = 0\n",
    "df.loc[df['age'] ==2, 'age'] = 1\n",
    "df.loc[df['Pressure'] <2, 'Pressure'] = 0\n",
    "df.loc[df['Pressure'] >=2, 'Pressure'] = 1\n",
    "df.loc[df['TG'] <2, 'TG'] = 0\n",
    "df.loc[df['TG'] >=2,'TG'] = 1\n",
    "df.loc[df['LDL'] <=2, 'LDL'] = 0\n",
    "df.loc[df['LDL'] >2,'LDL'] = 1\n",
    "df.loc[df['HDL'] <1, 'HDL'] = 0\n",
    "df.loc[df['HDL'] >=1,'HDL'] = 1\n",
    "df['BMI']=df['BMI']-1 #new BMI has values from 0 (normal weight) to 4\n",
    "df['BMI_final']=df['BMI_final']-1 #new BMI_final has values from 0 to 4"
   ]
  },
  {
   "cell_type": "markdown",
   "id": "b4cb6848",
   "metadata": {},
   "source": [
    "## Value counts for each subgroup and each category \n",
    "\n",
    "#### Whole intervention set (N=7730)"
   ]
  },
  {
   "cell_type": "code",
   "execution_count": null,
   "id": "3b82d30a",
   "metadata": {},
   "outputs": [],
   "source": [
    "for col in df.columns:\n",
    "    print(\"Value counts for column '{}':\".format(col))\n",
    "    print(df[col].value_counts())"
   ]
  },
  {
   "cell_type": "code",
   "execution_count": null,
   "id": "50be6ee1",
   "metadata": {},
   "outputs": [],
   "source": [
    "print('BMI Transition (total): ',df.loc[(df['BMI']!=df['BMI_final']),:].shape)\n",
    "print('BMI Transition 4->3: ',df.loc[(df['BMI']==4) & (df['BMI_final']==3),:].shape, df.loc[(df['BMI']==4) & (df['BMI_final']==3),:].shape[0]/df.loc[(df['BMI']!=df['BMI_final']),:].shape[0])\n",
    "print('BMI Transition 3->2: ',df.loc[(df['BMI']==3) & (df['BMI_final']==2),:].shape, df.loc[(df['BMI']==3) & (df['BMI_final']==2),:].shape[0]/df.loc[(df['BMI']!=df['BMI_final']),:].shape[0])\n",
    "print('BMI Transition 2->1: ',df.loc[(df['BMI']==2) & (df['BMI_final']==1),:].shape, df.loc[(df['BMI']==2) & (df['BMI_final']==1),:].shape[0]/df.loc[(df['BMI']!=df['BMI_final']),:].shape[0])\n",
    "print('BMI Transition 1->0: ',df.loc[(df['BMI']==1) & (df['BMI_final']==0),:].shape, df.loc[(df['BMI']==1) & (df['BMI_final']==0),:].shape[0]/df.loc[(df['BMI']!=df['BMI_final']),:].shape[0])\n",
    "\n",
    "print('FPG Transition 1->0: ',df.loc[(df['FPG']==1) & (df['FPG_final']==0),:].shape)"
   ]
  },
  {
   "cell_type": "markdown",
   "id": "05336f24",
   "metadata": {},
   "source": [
    "#### Subgroup 1 (age = 0; sex =0): women under 65 years of age (N=2455)"
   ]
  },
  {
   "cell_type": "code",
   "execution_count": null,
   "id": "137b6caa",
   "metadata": {},
   "outputs": [],
   "source": [
    "g1=df.loc[(df['age']==0) & (df['sex']==0),:]\n",
    "g1"
   ]
  },
  {
   "cell_type": "code",
   "execution_count": null,
   "id": "62ddbffb",
   "metadata": {},
   "outputs": [],
   "source": [
    "for col in g1.columns:\n",
    "    print(\"Value counts for column '{}':\".format(col))\n",
    "    print(g1[col].value_counts())"
   ]
  },
  {
   "cell_type": "markdown",
   "id": "8a2f0f5a",
   "metadata": {},
   "source": [
    "<u> Count the occurrences of each row in Subroup 1: </u>"
   ]
  },
  {
   "cell_type": "code",
   "execution_count": null,
   "id": "1b3bd16c",
   "metadata": {},
   "outputs": [],
   "source": [
    "# Convert each row to a tuple to make it hashable\n",
    "gx=g1.copy()\n",
    "gx['row_tuple'] = gx.apply(tuple, axis=1)\n",
    "\n",
    "# Count occurrences of each row\n",
    "row_counts = gx['row_tuple'].value_counts().reset_index()\n",
    "row_counts.columns = ['row_tuple', 'count']\n",
    "# Convert row_tuple back to DataFrame\n",
    "tmp = pd.DataFrame(row_counts['row_tuple'].tolist(), columns=g1.columns)\n",
    "# Concatenate original DataFrame with the count column\n",
    "g1_unique = pd.concat([tmp, row_counts['count']], axis=1)\n",
    "g1_unique"
   ]
  },
  {
   "cell_type": "code",
   "execution_count": null,
   "id": "9a55d887",
   "metadata": {},
   "outputs": [],
   "source": [
    "print('Total number of rows in subgroup 1:', g1_unique['count'].sum())\n",
    "print('Total number of UNIQUE rows in subgroup 1:', g1_unique.shape[0])\n",
    "g1_unique.to_csv(r'.\\combinations\\age0sex0_comb_5BMI.csv')\n",
    "#g1_unique.loc[g1_unique['BMI']==0,:].shape"
   ]
  },
  {
   "cell_type": "markdown",
   "id": "a75ac7ab",
   "metadata": {},
   "source": [
    "#### Subgroup 2 (age = 0; sex =1): men under 65 years of age (N=2460)"
   ]
  },
  {
   "cell_type": "code",
   "execution_count": null,
   "id": "0fe8932b",
   "metadata": {},
   "outputs": [],
   "source": [
    "g2=df.loc[(df['age']==0) & (df['sex']==1),:]\n",
    "g2"
   ]
  },
  {
   "cell_type": "code",
   "execution_count": null,
   "id": "4d98ca3b",
   "metadata": {},
   "outputs": [],
   "source": [
    "for col in g2.columns:\n",
    "    print(\"Value counts for column '{}':\".format(col))\n",
    "    print(g2[col].value_counts())"
   ]
  },
  {
   "cell_type": "markdown",
   "id": "e4dd2fa8",
   "metadata": {},
   "source": [
    "<u> Count the occurrences of each row in Subgroup 2:- </u>"
   ]
  },
  {
   "cell_type": "code",
   "execution_count": null,
   "id": "46501f21",
   "metadata": {},
   "outputs": [],
   "source": [
    "# Convert each row to a tuple to make it hashable\n",
    "gx=g2.copy()\n",
    "gx['row_tuple'] = gx.apply(tuple, axis=1)\n",
    "\n",
    "# Count occurrences of each row\n",
    "row_counts = gx['row_tuple'].value_counts().reset_index()\n",
    "row_counts.columns = ['row_tuple', 'count']\n",
    "# Convert row_tuple back to DataFrame\n",
    "tmp = pd.DataFrame(row_counts['row_tuple'].tolist(), columns=g1.columns)\n",
    "# Concatenate original DataFrame with the count column\n",
    "g2_unique = pd.concat([tmp, row_counts['count']], axis=1)\n",
    "g2_unique"
   ]
  },
  {
   "cell_type": "code",
   "execution_count": null,
   "id": "6258bda9",
   "metadata": {},
   "outputs": [],
   "source": [
    "print('Total number of rows in subgroup 2:', g2_unique['count'].sum())\n",
    "print('Total number of UNIQUE rows in subgroup 2:', g2_unique.shape[0])\n",
    "\n",
    "g2_unique.to_csv(r'.\\combinations\\age0sex1_comb_5BMI.csv')"
   ]
  },
  {
   "cell_type": "markdown",
   "id": "554f04fc",
   "metadata": {},
   "source": [
    "#### Subgroup 3 (age = 1; sex =0): women above 65 years of age (N=1478)"
   ]
  },
  {
   "cell_type": "code",
   "execution_count": null,
   "id": "bec6ce34",
   "metadata": {},
   "outputs": [],
   "source": [
    "g3=df.loc[(df['age']==1) & (df['sex']==0),:]\n",
    "g3"
   ]
  },
  {
   "cell_type": "code",
   "execution_count": null,
   "id": "2caf4494",
   "metadata": {},
   "outputs": [],
   "source": [
    "for col in g3.columns:\n",
    "    print(\"Value counts for column '{}':\".format(col))\n",
    "    print(g3[col].value_counts())"
   ]
  },
  {
   "cell_type": "markdown",
   "id": "984ec508",
   "metadata": {},
   "source": [
    "<u> Count the occurrences of each row in Subgroup 3: </u>"
   ]
  },
  {
   "cell_type": "code",
   "execution_count": null,
   "id": "2274b09a",
   "metadata": {},
   "outputs": [],
   "source": [
    "# Convert each row to a tuple to make it hashable\n",
    "gx=g3.copy()\n",
    "gx['row_tuple'] = gx.apply(tuple, axis=1)\n",
    "\n",
    "# Count occurrences of each row\n",
    "row_counts = gx['row_tuple'].value_counts().reset_index()\n",
    "row_counts.columns = ['row_tuple', 'count']\n",
    "# Convert row_tuple back to DataFrame\n",
    "tmp = pd.DataFrame(row_counts['row_tuple'].tolist(), columns=g1.columns)\n",
    "# Concatenate original DataFrame with the count column\n",
    "g3_unique = pd.concat([tmp, row_counts['count']], axis=1)\n",
    "g3_unique"
   ]
  },
  {
   "cell_type": "code",
   "execution_count": null,
   "id": "e86ee120",
   "metadata": {},
   "outputs": [],
   "source": [
    "print('Total number of rows in subgroup 3:', g3_unique['count'].sum())\n",
    "print('Total number of UNIQUE rows in subgroup 3:', g3_unique.shape[0])\n",
    "g3_unique.to_csv(r'.\\combinations\\age1sex0_comb_5BMI.csv')"
   ]
  },
  {
   "cell_type": "markdown",
   "id": "79f4aef8",
   "metadata": {},
   "source": [
    "#### Subgroup 4 (age = 1; sex =1): men above 65 years of age (N=1337)"
   ]
  },
  {
   "cell_type": "code",
   "execution_count": null,
   "id": "56e65941",
   "metadata": {
    "scrolled": true
   },
   "outputs": [],
   "source": [
    "g4=df.loc[(df['age']==1) & (df['sex']==1),:]\n",
    "g4"
   ]
  },
  {
   "cell_type": "code",
   "execution_count": null,
   "id": "e7b0bda7",
   "metadata": {},
   "outputs": [],
   "source": [
    "for col in g4.columns:\n",
    "    print(\"Value counts for column '{}':\".format(col))\n",
    "    print(g4[col].value_counts())"
   ]
  },
  {
   "cell_type": "markdown",
   "id": "cce572bd",
   "metadata": {},
   "source": [
    "<u> Count the occurrences of each row in Subgroup 4: </u>"
   ]
  },
  {
   "cell_type": "code",
   "execution_count": null,
   "id": "ff8fe90d",
   "metadata": {},
   "outputs": [],
   "source": [
    "# Convert each row to a tuple to make it hashable\n",
    "gx=g4.copy()\n",
    "gx['row_tuple'] = gx.apply(tuple, axis=1)\n",
    "\n",
    "# Count occurrences of each row\n",
    "row_counts = gx['row_tuple'].value_counts().reset_index()\n",
    "row_counts.columns = ['row_tuple', 'count']\n",
    "# Convert row_tuple back to DataFrame\n",
    "tmp = pd.DataFrame(row_counts['row_tuple'].tolist(), columns=g1.columns)\n",
    "# Concatenate original DataFrame with the count column\n",
    "g4_unique = pd.concat([tmp, row_counts['count']], axis=1)\n",
    "g4_unique"
   ]
  },
  {
   "cell_type": "code",
   "execution_count": null,
   "id": "ab2f66c2",
   "metadata": {},
   "outputs": [],
   "source": [
    "print('Total number of rows in subgroup 4:', g4_unique['count'].sum())\n",
    "print('Total number of UNIQUE rows in subgroup 4:', g4_unique.shape[0])\n",
    "g4_unique.to_csv(r'.\\combinations\\age1sex1_comb_5BMI.csv')"
   ]
  },
  {
   "cell_type": "code",
   "execution_count": null,
   "id": "96b8351e",
   "metadata": {},
   "outputs": [],
   "source": [
    "#save number of combinations and related total number of rows for each subgroup\n",
    "group_names = ['Subgroup1', 'Subgroup2', 'Subgroup3', 'Subgroup4']\n",
    "row_counts = [g1_unique['count'].sum(),g2_unique['count'].sum(),g3_unique['count'].sum(),g4_unique['count'].sum()]\n",
    "combination_counts = [g1_unique.shape[0],g2_unique.shape[0],g3_unique.shape[0],g4_unique.shape[0]]\n",
    "\n",
    "# Create a dictionary with the data\n",
    "data = {\n",
    "    'Group Name': group_names,\n",
    "    'Total rows count': row_counts,\n",
    "    'Total unique combinations count': combination_counts\n",
    "}\n",
    "\n",
    "df = pd.DataFrame(data)\n",
    "print(df)"
   ]
  },
  {
   "cell_type": "code",
   "execution_count": null,
   "id": "956ab67b",
   "metadata": {},
   "outputs": [],
   "source": [
    "df.to_csv(r'.\\combinations\\counts.csv')"
   ]
  }
 ],
 "metadata": {
  "kernelspec": {
   "display_name": "Python 3 (ipykernel)",
   "language": "python",
   "name": "python3"
  },
  "language_info": {
   "codemirror_mode": {
    "name": "ipython",
    "version": 3
   },
   "file_extension": ".py",
   "mimetype": "text/x-python",
   "name": "python",
   "nbconvert_exporter": "python",
   "pygments_lexer": "ipython3",
   "version": "3.8.13"
  }
 },
 "nbformat": 4,
 "nbformat_minor": 5
}
