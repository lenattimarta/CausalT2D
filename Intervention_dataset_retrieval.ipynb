{
 "cells": [
  {
   "cell_type": "markdown",
   "metadata": {},
   "source": [
    "## Intervention dataset "
   ]
  },
  {
   "cell_type": "markdown",
   "metadata": {},
   "source": [
    "<b>Dataset processing:</b>\n",
    "<ul>\n",
    "    <li>Test data recovery</li>\n",
    "    <li>Additional extraction of weight and height information </li>\n",
    "    <li> Application of the same eligibility criteria of the Diabetes Prevention Program (DPP) Randomised Trial (1996–2002): age >=25 years, BMI >=24, FPG between 5.3 and\n",
    "6.9 mmol/L</li>\n",
    "    <li>Intervention application: apply to each patient's initial characteristics a weight and FPG reduction which corresponds to the average reduction values observed in the lifestyle intervention group of the DPP trial after a year and a half of intervention) </li>\n",
    "    <li> Dataset discretization</li>\n",
    "</ul>"
   ]
  },
  {
   "cell_type": "code",
   "execution_count": null,
   "metadata": {},
   "outputs": [],
   "source": [
    "import pandas as pd\n",
    "import numpy as np\n",
    "import math\n",
    "from datetime import datetime, timedelta\n",
    "import matplotlib.pyplot as plt\n",
    "\n",
    "pd.set_option('display.max_columns', None)"
   ]
  },
  {
   "cell_type": "code",
   "execution_count": null,
   "metadata": {},
   "outputs": [],
   "source": [
    "#load test data before discretization\n",
    "test_data=pd.read_csv('test_set_pathname', delimiter=',',index_col=0) #31864 patients"
   ]
  },
  {
   "cell_type": "code",
   "execution_count": null,
   "metadata": {},
   "outputs": [],
   "source": [
    "test_data #31864 record, columns {'Patient_ID', 'age', 'sex', 'sbp', 'dbp', 'BMI','Height',Weight','LDL', 'HDL','TG', 'FPG', 'T2D'}"
   ]
  },
  {
   "cell_type": "code",
   "execution_count": null,
   "metadata": {},
   "outputs": [],
   "source": [
    "#the intervention dataset (7730 records) is the result of the application of eligibility criteria of the DPP trial\n",
    "intervention_dataset=test_data[test_data[\"FPG\"].between(5.3,6.9) & (test_data[\"age\"]>=25) & (test_data[\"BMI\"]>=24)]\n",
    "intervention_dataset.describe()"
   ]
  },
  {
   "cell_type": "code",
   "execution_count": null,
   "metadata": {},
   "outputs": [],
   "source": [
    "#Computation of the BMI and FPG values after intervention (BMI* and FPG* in the counterfactual world) \n",
    "# BMI* value is obtained applying a 6 kg weight reduction to the initial weight and recomputing BMI\n",
    "intervention_dataset.insert(2,\"Weight_final\",0)\n",
    "intervention_dataset.insert(8,\"BMI_final\",0)\n",
    "intervention_dataset[\"Weight_final\"]=intervention_dataset[\"Weight\"]-6\n",
    "intervention_dataset[\"BMI_final\"]=round(intervention_dataset[\"Weight_final\"]/((intervention_dataset[\"Height\"]/100)**2))\n",
    "# FPG* value is obtained applying a reduction of 0.17 mmol/L to the initial FPG value\n",
    "intervention_dataset[\"FPG_final\"]=intervention_dataset[\"FPG\"]-0.17"
   ]
  }
 ],
 "metadata": {
  "kernelspec": {
   "display_name": "Python 3 (ipykernel)",
   "language": "python",
   "name": "python3"
  },
  "language_info": {
   "codemirror_mode": {
    "name": "ipython",
    "version": 3
   },
   "file_extension": ".py",
   "mimetype": "text/x-python",
   "name": "python",
   "nbconvert_exporter": "python",
   "pygments_lexer": "ipython3",
   "version": "3.8.13"
  }
 },
 "nbformat": 4,
 "nbformat_minor": 2
}
