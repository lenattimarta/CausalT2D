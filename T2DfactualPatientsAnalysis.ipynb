{
 "cells": [
  {
   "cell_type": "markdown",
   "id": "d6ad2835",
   "metadata": {},
   "source": [
    "### Code for analysing T2D patients in the factual world, according to different subgroups (i.e., patients above thr before  intervention)\n",
    "(Counterfactual inference is performed separately on 4 different groups of subjects: females < 65 years, males <65 years, females >65 years and males > 65 years)\n",
    "<li> run CountDiscreteCombinations.ipynb to retrieve the number of patients for each unique features combination </li>\n",
    "<li> run ReadSimulationsBatch.ipynb to retrieve the subset of patients at high risk of T2D in the factual world in each batch of simulations</li>\n",
    "<li> total number of high risk patients in the factual world (nHR)=3241 </li>"
   ]
  },
  {
   "cell_type": "code",
   "execution_count": 1,
   "id": "89b169a0",
   "metadata": {},
   "outputs": [],
   "source": [
    "import pandas as pd\n",
    "import numpy as np"
   ]
  },
  {
   "cell_type": "code",
   "execution_count": 2,
   "id": "8e53ff5b",
   "metadata": {},
   "outputs": [
    {
     "name": "stdout",
     "output_type": "stream",
     "text": [
      "F, <65: (2455, 24)\n",
      "F, >65: (1478, 24)\n",
      "M, <65: (2460, 24)\n",
      "M, >65: (1337, 24)\n"
     ]
    }
   ],
   "source": [
    "intervention_set=pd.read_csv(r'.\\test_data_intervention.csv', delimiter=',')\n",
    "print('F, <65:', intervention_set.loc[(intervention_set['sex']==0) &(intervention_set['age']<=1),:].shape)\n",
    "print('F, >65:', intervention_set.loc[(intervention_set['sex']==0) &(intervention_set['age']>1),:].shape)\n",
    "print('M, <65:', intervention_set.loc[(intervention_set['sex']==1) &(intervention_set['age']<=1),:].shape)\n",
    "print('M, >65:', intervention_set.loc[(intervention_set['sex']==1) &(intervention_set['age']>1),:].shape)"
   ]
  },
  {
   "cell_type": "markdown",
   "id": "bcfdd36f",
   "metadata": {},
   "source": [
    "#### Subgroup 1"
   ]
  },
  {
   "cell_type": "code",
   "execution_count": null,
   "id": "42f70fdd",
   "metadata": {},
   "outputs": [],
   "source": [
    "hr1=pd.read_csv(r'T2Dfactual\\df_T2Dfactual_g1.csv', delimiter=',')\n",
    "hr1= hr1.drop([\"Unnamed: 0\",'Pdiabetes_min','Pdiabetes_max','Pdiabetes_star_min','Pdiabetes_star_max','Pdelta_min','Pdelta_max','out_R','out_C'], axis=1)\n",
    "hr1"
   ]
  },
  {
   "cell_type": "code",
   "execution_count": null,
   "id": "03f86e48",
   "metadata": {
    "scrolled": true
   },
   "outputs": [],
   "source": [
    "# Create a new DataFrame by repeating rows based on the 'count' column\n",
    "hr1_patients = hr1.loc[hr1.index.repeat(hr1['count'])].drop('count', axis=1).reset_index(drop=True)\n",
    "print(hr1_patients)"
   ]
  },
  {
   "cell_type": "code",
   "execution_count": 6,
   "id": "8bea964e",
   "metadata": {},
   "outputs": [
    {
     "name": "stdout",
     "output_type": "stream",
     "text": [
      "Value counts for column \u001b[1m'LDL'\u001b[0m:\n",
      "0    1010\n",
      "1      96\n",
      "Name: LDL, dtype: int64\n",
      "Value counts for column \u001b[1m'BMI'\u001b[0m:\n",
      "0     10\n",
      "1    152\n",
      "2    448\n",
      "3    250\n",
      "4    246\n",
      "Name: BMI, dtype: int64\n",
      "Value counts for column \u001b[1m'Pressure'\u001b[0m:\n",
      "0    312\n",
      "1    794\n",
      "Name: Pressure, dtype: int64\n",
      "Value counts for column \u001b[1m'Diabetes'\u001b[0m:\n",
      "0    939\n",
      "1    167\n",
      "Name: Diabetes, dtype: int64\n",
      "Value counts for column \u001b[1m'TG'\u001b[0m:\n",
      "0    874\n",
      "1    232\n",
      "Name: TG, dtype: int64\n",
      "Value counts for column \u001b[1m'HDL'\u001b[0m:\n",
      "0    630\n",
      "1    476\n",
      "Name: HDL, dtype: int64\n",
      "Value counts for column \u001b[1m'FBS'\u001b[0m:\n",
      "0    135\n",
      "1    971\n",
      "Name: FBS, dtype: int64\n",
      "Value counts for column \u001b[1m'BMI_final'\u001b[0m:\n",
      "0     51\n",
      "1    280\n",
      "2    385\n",
      "3    213\n",
      "4    177\n",
      "Name: BMI_final, dtype: int64\n",
      "Value counts for column \u001b[1m'FBS_final'\u001b[0m:\n",
      "0    313\n",
      "1    793\n",
      "Name: FBS_final, dtype: int64\n",
      "Value counts for column \u001b[1m'age'\u001b[0m:\n",
      "0.0    1106\n",
      "Name: age, dtype: int64\n",
      "Value counts for column \u001b[1m'sex'\u001b[0m:\n",
      "0.0    1106\n",
      "Name: sex, dtype: int64\n"
     ]
    }
   ],
   "source": [
    "for col in hr1_patients.columns:\n",
    "    print(\"Value counts for column \\033[1m'{}'\\033[0m:\".format(col))\n",
    "    print(hr1_patients [col].value_counts().sort_index())"
   ]
  },
  {
   "cell_type": "markdown",
   "id": "dac1ba28",
   "metadata": {},
   "source": [
    "#### Subgroup 2"
   ]
  },
  {
   "cell_type": "code",
   "execution_count": 10,
   "id": "f3b182d7",
   "metadata": {},
   "outputs": [],
   "source": [
    "hr2=pd.read_csv('T2Dfactual\\df_T2Dfactual_g2.csv', delimiter=',')\n",
    "hr2=hr2.drop([\"Unnamed: 0\",'Pdiabetes_min','Pdiabetes_max','Pdiabetes_star_min','Pdiabetes_star_max','Pdelta_min','Pdelta_max','out_R','out_C'], axis=1)"
   ]
  },
  {
   "cell_type": "code",
   "execution_count": 11,
   "id": "52be61ad",
   "metadata": {},
   "outputs": [],
   "source": [
    "# Create a new DataFrame by repeating rows based on the 'count' column\n",
    "hr2_patients = hr2.loc[hr2.index.repeat(hr2['count'])].drop('count', axis=1).reset_index(drop=True)"
   ]
  },
  {
   "cell_type": "code",
   "execution_count": 12,
   "id": "b2f4aead",
   "metadata": {},
   "outputs": [
    {
     "name": "stdout",
     "output_type": "stream",
     "text": [
      "Value counts for column \u001b[1m'LDL'\u001b[0m:\n",
      "0    1134\n",
      "1      45\n",
      "Name: LDL, dtype: int64\n",
      "Value counts for column \u001b[1m'BMI'\u001b[0m:\n",
      "0     26\n",
      "1    404\n",
      "2    484\n",
      "3    162\n",
      "4    103\n",
      "Name: BMI, dtype: int64\n",
      "Value counts for column \u001b[1m'Pressure'\u001b[0m:\n",
      "0    250\n",
      "1    929\n",
      "Name: Pressure, dtype: int64\n",
      "Value counts for column \u001b[1m'Diabetes'\u001b[0m:\n",
      "0    1022\n",
      "1     157\n",
      "Name: Diabetes, dtype: int64\n",
      "Value counts for column \u001b[1m'TG'\u001b[0m:\n",
      "0    869\n",
      "1    310\n",
      "Name: TG, dtype: int64\n",
      "Value counts for column \u001b[1m'HDL'\u001b[0m:\n",
      "0    371\n",
      "1    808\n",
      "Name: HDL, dtype: int64\n",
      "Value counts for column \u001b[1m'FBS'\u001b[0m:\n",
      "0      71\n",
      "1    1108\n",
      "Name: FBS, dtype: int64\n",
      "Value counts for column \u001b[1m'BMI_final'\u001b[0m:\n",
      "0    120\n",
      "1    503\n",
      "2    355\n",
      "3    129\n",
      "4     72\n",
      "Name: BMI_final, dtype: int64\n",
      "Value counts for column \u001b[1m'FBS_final'\u001b[0m:\n",
      "0    256\n",
      "1    923\n",
      "Name: FBS_final, dtype: int64\n",
      "Value counts for column \u001b[1m'age'\u001b[0m:\n",
      "0.0    1179\n",
      "Name: age, dtype: int64\n",
      "Value counts for column \u001b[1m'sex'\u001b[0m:\n",
      "1.0    1179\n",
      "Name: sex, dtype: int64\n"
     ]
    }
   ],
   "source": [
    "for col in hr2_patients.columns:\n",
    "    print(\"Value counts for column \\033[1m'{}'\\033[0m:\".format(col))\n",
    "    print(hr2_patients[col].value_counts().sort_index())"
   ]
  },
  {
   "cell_type": "markdown",
   "id": "bdc9c3f2",
   "metadata": {},
   "source": [
    "#### Subgroup 3"
   ]
  },
  {
   "cell_type": "code",
   "execution_count": 13,
   "id": "467d2a90",
   "metadata": {},
   "outputs": [],
   "source": [
    "hr3=pd.read_csv('T2Dfactual\\df_T2Dfactual_g3.csv', delimiter=',')\n",
    "hr3=hr3.drop([\"Unnamed: 0\",'Pdiabetes_min','Pdiabetes_max','Pdiabetes_star_min','Pdiabetes_star_max','Pdelta_min','Pdelta_max','out_R','out_C'], axis=1)"
   ]
  },
  {
   "cell_type": "code",
   "execution_count": 14,
   "id": "97269b06",
   "metadata": {},
   "outputs": [],
   "source": [
    "# Create a new DataFrame by repeating rows based on the 'count' column\n",
    "hr3_patients = hr3.loc[hr3.index.repeat(hr3['count'])].drop('count', axis=1).reset_index(drop=True)\n"
   ]
  },
  {
   "cell_type": "code",
   "execution_count": 15,
   "id": "94962ab8",
   "metadata": {},
   "outputs": [
    {
     "name": "stdout",
     "output_type": "stream",
     "text": [
      "Value counts for column \u001b[1m'LDL'\u001b[0m:\n",
      "0    378\n",
      "1     29\n",
      "Name: LDL, dtype: int64\n",
      "Value counts for column \u001b[1m'BMI'\u001b[0m:\n",
      "1    102\n",
      "2    177\n",
      "3     96\n",
      "4     32\n",
      "Name: BMI, dtype: int64\n",
      "Value counts for column \u001b[1m'Pressure'\u001b[0m:\n",
      "0     64\n",
      "1    343\n",
      "Name: Pressure, dtype: int64\n",
      "Value counts for column \u001b[1m'Diabetes'\u001b[0m:\n",
      "0    345\n",
      "1     62\n",
      "Name: Diabetes, dtype: int64\n",
      "Value counts for column \u001b[1m'TG'\u001b[0m:\n",
      "0    359\n",
      "1     48\n",
      "Name: TG, dtype: int64\n",
      "Value counts for column \u001b[1m'HDL'\u001b[0m:\n",
      "0    254\n",
      "1    153\n",
      "Name: HDL, dtype: int64\n",
      "Value counts for column \u001b[1m'FBS'\u001b[0m:\n",
      "0      6\n",
      "1    401\n",
      "Name: FBS, dtype: int64\n",
      "Value counts for column \u001b[1m'BMI_final'\u001b[0m:\n",
      "0     32\n",
      "1    157\n",
      "2    145\n",
      "3     54\n",
      "4     19\n",
      "Name: BMI_final, dtype: int64\n",
      "Value counts for column \u001b[1m'FBS_final'\u001b[0m:\n",
      "0     62\n",
      "1    345\n",
      "Name: FBS_final, dtype: int64\n",
      "Value counts for column \u001b[1m'age'\u001b[0m:\n",
      "1.0    407\n",
      "Name: age, dtype: int64\n",
      "Value counts for column \u001b[1m'sex'\u001b[0m:\n",
      "0.0    407\n",
      "Name: sex, dtype: int64\n"
     ]
    }
   ],
   "source": [
    "for col in hr3_patients.columns:\n",
    "    print(\"Value counts for column \\033[1m'{}'\\033[0m:\".format(col))\n",
    "    print(hr3_patients[col].value_counts().sort_index())"
   ]
  },
  {
   "cell_type": "markdown",
   "id": "96bb9864",
   "metadata": {},
   "source": [
    "#### Subgroup 4"
   ]
  },
  {
   "cell_type": "code",
   "execution_count": 16,
   "id": "2580742a",
   "metadata": {},
   "outputs": [],
   "source": [
    "hr4=pd.read_csv('T2Dfactual\\df_T2Dfactual_g4.csv', delimiter=',')\n",
    "hr4=hr4.drop([\"Unnamed: 0\",'Pdiabetes_min','Pdiabetes_max','Pdiabetes_star_min','Pdiabetes_star_max','Pdelta_min','Pdelta_max','out_R','out_C'], axis=1)"
   ]
  },
  {
   "cell_type": "code",
   "execution_count": 17,
   "id": "d98c314c",
   "metadata": {},
   "outputs": [],
   "source": [
    "# Create a new DataFrame by repeating rows based on the 'count' column\n",
    "hr4_patients = hr4.loc[hr4.index.repeat(hr4['count'])].drop('count', axis=1).reset_index(drop=True)"
   ]
  },
  {
   "cell_type": "code",
   "execution_count": 18,
   "id": "997d813d",
   "metadata": {},
   "outputs": [
    {
     "name": "stdout",
     "output_type": "stream",
     "text": [
      "Value counts for column \u001b[1m'LDL'\u001b[0m:\n",
      "0    539\n",
      "1     10\n",
      "Name: LDL, dtype: int64\n",
      "Value counts for column \u001b[1m'BMI'\u001b[0m:\n",
      "1    221\n",
      "2    258\n",
      "3     62\n",
      "4      8\n",
      "Name: BMI, dtype: int64\n",
      "Value counts for column \u001b[1m'Pressure'\u001b[0m:\n",
      "0    272\n",
      "1    277\n",
      "Name: Pressure, dtype: int64\n",
      "Value counts for column \u001b[1m'Diabetes'\u001b[0m:\n",
      "0    477\n",
      "1     72\n",
      "Name: Diabetes, dtype: int64\n",
      "Value counts for column \u001b[1m'TG'\u001b[0m:\n",
      "0    471\n",
      "1     78\n",
      "Name: TG, dtype: int64\n",
      "Value counts for column \u001b[1m'HDL'\u001b[0m:\n",
      "0    174\n",
      "1    375\n",
      "Name: HDL, dtype: int64\n",
      "Value counts for column \u001b[1m'FBS'\u001b[0m:\n",
      "0     17\n",
      "1    532\n",
      "Name: FBS, dtype: int64\n",
      "Value counts for column \u001b[1m'BMI_final'\u001b[0m:\n",
      "0     55\n",
      "1    273\n",
      "2    176\n",
      "3     38\n",
      "4      7\n",
      "Name: BMI_final, dtype: int64\n",
      "Value counts for column \u001b[1m'FBS_final'\u001b[0m:\n",
      "0     85\n",
      "1    464\n",
      "Name: FBS_final, dtype: int64\n",
      "Value counts for column \u001b[1m'age'\u001b[0m:\n",
      "1.0    549\n",
      "Name: age, dtype: int64\n",
      "Value counts for column \u001b[1m'sex'\u001b[0m:\n",
      "1.0    549\n",
      "Name: sex, dtype: int64\n"
     ]
    }
   ],
   "source": [
    "for col in hr4_patients.columns:\n",
    "    print(\"Value counts for column \\033[1m'{}'\\033[0m:\".format(col))\n",
    "    print(hr4_patients[col].value_counts().sort_index())"
   ]
  },
  {
   "cell_type": "markdown",
   "id": "80710a02",
   "metadata": {},
   "source": [
    "#### Whole set of factual T2D patients"
   ]
  },
  {
   "cell_type": "code",
   "execution_count": 21,
   "id": "6f55c460",
   "metadata": {},
   "outputs": [
    {
     "name": "stdout",
     "output_type": "stream",
     "text": [
      "(1106, 11)\n",
      "(1179, 11)\n",
      "(407, 11)\n",
      "(549, 11)\n"
     ]
    }
   ],
   "source": [
    "print(hr1_patients.shape)\n",
    "print(hr2_patients.shape)\n",
    "print(hr3_patients.shape)\n",
    "print(hr4_patients.shape)"
   ]
  },
  {
   "cell_type": "code",
   "execution_count": 22,
   "id": "86a99f09",
   "metadata": {},
   "outputs": [],
   "source": [
    "df_tot_hr=pd.concat([hr1_patients,hr2_patients,hr3_patients,hr4_patients])"
   ]
  },
  {
   "cell_type": "code",
   "execution_count": 23,
   "id": "0615b6de",
   "metadata": {},
   "outputs": [
    {
     "name": "stdout",
     "output_type": "stream",
     "text": [
      "\u001b[1mTotal # of T2D patients-factual\u001b[0m (3241, 11)\n",
      "# T2D patients-factual with a change in \u001b[1mboth BMI and FBS \u001b[0m (180, 11)\n",
      "# T2D patients-factual with a change in \u001b[1mBMI category only \u001b[0m (962, 11)\n",
      "# T2D patients-factual with a change in \u001b[1mFBS category only\u001b[0m (307, 11)\n",
      "# T2D patients-factual with no change \u001b[1mneither in BMI nor in FBS\u001b[0m (1792, 11)\n"
     ]
    }
   ],
   "source": [
    "print('\\033[1mTotal # of T2D patients-factual\\033[0m',df_tot_hr.shape)\n",
    "print('# T2D patients-factual with a change in \\033[1mboth BMI and FBS \\033[0m',df_tot_hr.loc[(df_tot_hr['BMI']!=df_tot_hr['BMI_final'])&(df_tot_hr['FBS']!=df_tot_hr['FBS_final']),:].shape)\n",
    "print('# T2D patients-factual with a change in \\033[1mBMI category only \\033[0m',df_tot_hr.loc[(df_tot_hr['BMI']!=df_tot_hr['BMI_final'])&(df_tot_hr['FBS']==df_tot_hr['FBS_final']),:].shape)\n",
    "print('# T2D patients-factual with a change in \\033[1mFBS category only\\033[0m',df_tot_hr.loc[(df_tot_hr['BMI']==df_tot_hr['BMI_final'])&(df_tot_hr['FBS']!=df_tot_hr['FBS_final']),:].shape)\n",
    "print('# T2D patients-factual with no change \\033[1mneither in BMI nor in FBS\\033[0m',df_tot_hr.loc[(df_tot_hr['BMI']==df_tot_hr['BMI_final'])&(df_tot_hr['FBS']==df_tot_hr['FBS_final']),:].shape)"
   ]
  },
  {
   "cell_type": "code",
   "execution_count": 24,
   "id": "08f4f7cc",
   "metadata": {},
   "outputs": [
    {
     "name": "stdout",
     "output_type": "stream",
     "text": [
      "#T2D patients-factual with a change \u001b[1mat least in FBS\u001b[0m (487, 11) \n",
      "\n",
      "# T2D patients-factual with a change \u001b[1mat least in BMI\u001b[0m (1142, 11)\n",
      "- # T2D patients-factual with transition 4->3 (114, 11)\n",
      "- # T2D patients-factual with transition 3->2 (250, 11)\n",
      "- # T2D patients-factual with transition 2->1 (556, 11)\n",
      "- # T2D patients-factual with transition 1->0 (222, 11)\n"
     ]
    }
   ],
   "source": [
    "print('#T2D patients-factual with a change \\033[1mat least in FBS\\033[0m',df_tot_hr.loc[((df_tot_hr['FBS']==1) & (df_tot_hr['FBS_final']==0)),:].shape,'\\n')\n",
    "print('# T2D patients-factual with a change \\033[1mat least in BMI\\033[0m',df_tot_hr.loc[(df_tot_hr['BMI']!=df_tot_hr['BMI_final']),:].shape)\n",
    "print('- # T2D patients-factual with transition 4->3',df_tot_hr.loc[((df_tot_hr['BMI']==4) & (df_tot_hr['BMI_final']==3)),:].shape)\n",
    "print('- # T2D patients-factual with transition 3->2',df_tot_hr.loc[((df_tot_hr['BMI']==3) & (df_tot_hr['BMI_final']==2)),:].shape)\n",
    "print('- # T2D patients-factual with transition 2->1',df_tot_hr.loc[((df_tot_hr['BMI']==2) & (df_tot_hr['BMI_final']==1)),:].shape)\n",
    "print('- # T2D patients-factual with transition 1->0',df_tot_hr.loc[((df_tot_hr['BMI']==1) & (df_tot_hr['BMI_final']==0)),:].shape)"
   ]
  },
  {
   "cell_type": "code",
   "execution_count": 25,
   "id": "d5c0d792",
   "metadata": {},
   "outputs": [
    {
     "name": "stdout",
     "output_type": "stream",
     "text": [
      "# T2D patients-factual with a change in \u001b[1mboth BMI and FBS \u001b[0m (180, 11)\n",
      "- # T2D patients-factual with transition 4->3 (8, 11)\n",
      "- # T2D patients-factual with transition 3->2 (35, 11)\n",
      "- # T2D patients-factual with transition 2->1 (94, 11)\n",
      "- # T2D patients-factual with transition 1->0 (43, 11)\n"
     ]
    }
   ],
   "source": [
    "print('# T2D patients-factual with a change in \\033[1mboth BMI and FBS \\033[0m',df_tot_hr.loc[(df_tot_hr['BMI']!=df_tot_hr['BMI_final'])&(df_tot_hr['FBS']!=df_tot_hr['FBS_final']),:].shape)\n",
    "\n",
    "print('- # T2D patients-factual with transition 4->3',df_tot_hr.loc[((df_tot_hr['BMI']==4) & (df_tot_hr['BMI_final']==3)& ((df_tot_hr['FBS']==1) & (df_tot_hr['FBS_final']==0))),:].shape)\n",
    "print('- # T2D patients-factual with transition 3->2',df_tot_hr.loc[((df_tot_hr['BMI']==3) & (df_tot_hr['BMI_final']==2)&((df_tot_hr['FBS']==1) & (df_tot_hr['FBS_final']==0))),:].shape)\n",
    "print('- # T2D patients-factual with transition 2->1',df_tot_hr.loc[((df_tot_hr['BMI']==2) & (df_tot_hr['BMI_final']==1)&((df_tot_hr['FBS']==1) & (df_tot_hr['FBS_final']==0))),:].shape)\n",
    "print('- # T2D patients-factual with transition 1->0',df_tot_hr.loc[((df_tot_hr['BMI']==1) & (df_tot_hr['BMI_final']==0)&((df_tot_hr['FBS']==1) & (df_tot_hr['FBS_final']==0))),:].shape)"
   ]
  },
  {
   "cell_type": "code",
   "execution_count": 26,
   "id": "dfc1badf",
   "metadata": {},
   "outputs": [
    {
     "name": "stdout",
     "output_type": "stream",
     "text": [
      "\u001b[1mTotal # of T2D patients-factual in subgroup 1 \u001b[0m (1106, 11)\n",
      "# T2D patients-factual with a change in \u001b[1mboth BMI and FBS \u001b[0m (61, 11)\n",
      "# T2D patients-factual with a change in \u001b[1mBMI category only \u001b[0m (324, 11)\n",
      "# T2D patients-factual with a change in \u001b[1mFBS category only\u001b[0m (117, 11)\n",
      "# T2D patients-factual with no change \u001b[1mneither in BMI nor in FBS\u001b[0m (604, 11)\n"
     ]
    }
   ],
   "source": [
    "#subgroup 1\n",
    "print('\\033[1mTotal # of T2D patients-factual in subgroup 1 \\033[0m',hr1_patients.shape)\n",
    "print('# T2D patients-factual with a change in \\033[1mboth BMI and FBS \\033[0m', hr1_patients.loc[(hr1_patients['BMI']!=hr1_patients['BMI_final'])&(hr1_patients['FBS']!=hr1_patients['FBS_final']),:].shape)\n",
    "print('# T2D patients-factual with a change in \\033[1mBMI category only \\033[0m',hr1_patients.loc[(hr1_patients['BMI']!=hr1_patients['BMI_final'])&(hr1_patients['FBS']==hr1_patients['FBS_final']),:].shape)\n",
    "print('# T2D patients-factual with a change in \\033[1mFBS category only\\033[0m', hr1_patients.loc[(hr1_patients['BMI']==hr1_patients['BMI_final'])&(hr1_patients['FBS']!=hr1_patients['FBS_final']),:].shape)\n",
    "print('# T2D patients-factual with no change \\033[1mneither in BMI nor in FBS\\033[0m',hr1_patients.loc[(hr1_patients['BMI']==hr1_patients['BMI_final'])&(hr1_patients['FBS']==hr1_patients['FBS_final']),:].shape)"
   ]
  },
  {
   "cell_type": "code",
   "execution_count": 27,
   "id": "2f9675e3",
   "metadata": {},
   "outputs": [
    {
     "name": "stdout",
     "output_type": "stream",
     "text": [
      "\u001b[1mTotal # of T2D patients-factualin subgroup 2 \u001b[0m (1179, 11)\n",
      "# T2D patients-factual with a change in \u001b[1mboth BMI and FBS \u001b[0m (63, 11)\n",
      "# T2D patients-factual with a change in \u001b[1mBMI category only \u001b[0m (319, 11)\n",
      "# T2D patients-factual with a change in \u001b[1mFBS category only\u001b[0m (122, 11)\n",
      "# T2D patients-factual with no change \u001b[1mneither in BMI nor in FBS\u001b[0m (675, 11)\n"
     ]
    }
   ],
   "source": [
    "#subgroup 2\n",
    "print('\\033[1mTotal # of T2D patients-factualin subgroup 2 \\033[0m',hr2_patients.shape)\n",
    "print('# T2D patients-factual with a change in \\033[1mboth BMI and FBS \\033[0m', hr2_patients.loc[(hr2_patients['BMI']!=hr2_patients['BMI_final'])&(hr2_patients['FBS']!=hr2_patients['FBS_final']),:].shape)\n",
    "print('# T2D patients-factual with a change in \\033[1mBMI category only \\033[0m',hr2_patients.loc[(hr2_patients['BMI']!=hr2_patients['BMI_final'])&(hr2_patients['FBS']==hr2_patients['FBS_final']),:].shape)\n",
    "print('# T2D patients-factual with a change in \\033[1mFBS category only\\033[0m', hr2_patients.loc[(hr2_patients['BMI']==hr2_patients['BMI_final'])&(hr2_patients['FBS']!=hr2_patients['FBS_final']),:].shape)\n",
    "print('# T2D patients-factual with no change \\033[1mneither in BMI nor in FBS\\033[0m',hr2_patients.loc[(hr2_patients['BMI']==hr2_patients['BMI_final'])&(hr2_patients['FBS']==hr2_patients['FBS_final']),:].shape)"
   ]
  },
  {
   "cell_type": "code",
   "execution_count": 28,
   "id": "6c7d2a13",
   "metadata": {},
   "outputs": [
    {
     "name": "stdout",
     "output_type": "stream",
     "text": [
      "\u001b[1mTotal # of T2D patients-factual in subgroup 3 \u001b[0m (407, 11)\n",
      "# T2D patients-factual with a change in \u001b[1mboth BMI and FBS \u001b[0m (29, 11)\n",
      "#T2D patients-factual with a change in \u001b[1mBMI category only \u001b[0m (158, 11)\n",
      "# T2D patients-factual with a change in \u001b[1mFBS category only\u001b[0m (27, 11)\n",
      "# T2D patients-factual with no change \u001b[1mneither in BMI nor in FBS\u001b[0m (193, 11)\n"
     ]
    }
   ],
   "source": [
    "#subgroup 3\n",
    "print('\\033[1mTotal # of T2D patients-factual in subgroup 3 \\033[0m',hr3_patients.shape)\n",
    "print('# T2D patients-factual with a change in \\033[1mboth BMI and FBS \\033[0m', hr3_patients.loc[(hr3_patients['BMI']!=hr3_patients['BMI_final'])&(hr3_patients['FBS']!=hr3_patients['FBS_final']),:].shape)\n",
    "print('#T2D patients-factual with a change in \\033[1mBMI category only \\033[0m',hr3_patients.loc[(hr3_patients['BMI']!=hr3_patients['BMI_final'])&(hr3_patients['FBS']==hr3_patients['FBS_final']),:].shape)\n",
    "print('# T2D patients-factual with a change in \\033[1mFBS category only\\033[0m', hr3_patients.loc[(hr3_patients['BMI']==hr3_patients['BMI_final'])&(hr3_patients['FBS']!=hr3_patients['FBS_final']),:].shape)\n",
    "print('# T2D patients-factual with no change \\033[1mneither in BMI nor in FBS\\033[0m',hr3_patients.loc[(hr3_patients['BMI']==hr3_patients['BMI_final'])&(hr3_patients['FBS']==hr3_patients['FBS_final']),:].shape)"
   ]
  },
  {
   "cell_type": "code",
   "execution_count": 29,
   "id": "6d88d88b",
   "metadata": {},
   "outputs": [
    {
     "name": "stdout",
     "output_type": "stream",
     "text": [
      "\u001b[1mTotal # of T2D patients-factual in subgroup 4 \u001b[0m (549, 11)\n",
      "# T2D patients-factual with a change in \u001b[1mboth BMI and FBS \u001b[0m (27, 11)\n",
      "# T2D patients-factual with a change in \u001b[1mBMI category only \u001b[0m (161, 11)\n",
      "# T2D patients-factual with a change in \u001b[1mFBS category only\u001b[0m (41, 11)\n",
      "# T2D patients-factual with no change \u001b[1mneither in BMI nor in FBS\u001b[0m (320, 11)\n"
     ]
    }
   ],
   "source": [
    "#subgroup 4\n",
    "print('\\033[1mTotal # of T2D patients-factual in subgroup 4 \\033[0m',hr4_patients.shape)\n",
    "print('# T2D patients-factual with a change in \\033[1mboth BMI and FBS \\033[0m', hr4_patients.loc[(hr4_patients['BMI']!=hr4_patients['BMI_final'])&(hr4_patients['FBS']!=hr4_patients['FBS_final']),:].shape)\n",
    "print('# T2D patients-factual with a change in \\033[1mBMI category only \\033[0m',hr4_patients.loc[(hr4_patients['BMI']!=hr4_patients['BMI_final'])&(hr4_patients['FBS']==hr4_patients['FBS_final']),:].shape)\n",
    "print('# T2D patients-factual with a change in \\033[1mFBS category only\\033[0m', hr4_patients.loc[(hr4_patients['BMI']==hr4_patients['BMI_final'])&(hr4_patients['FBS']!=hr4_patients['FBS_final']),:].shape)\n",
    "print('# T2D patients-factual with no change \\033[1mneither in BMI nor in FBS\\033[0m',hr4_patients.loc[(hr4_patients['BMI']==hr4_patients['BMI_final'])&(hr4_patients['FBS']==hr4_patients['FBS_final']),:].shape)"
   ]
  }
 ],
 "metadata": {
  "kernelspec": {
   "display_name": "Python 3 (ipykernel)",
   "language": "python",
   "name": "python3"
  },
  "language_info": {
   "codemirror_mode": {
    "name": "ipython",
    "version": 3
   },
   "file_extension": ".py",
   "mimetype": "text/x-python",
   "name": "python",
   "nbconvert_exporter": "python",
   "pygments_lexer": "ipython3",
   "version": "3.8.13"
  }
 },
 "nbformat": 4,
 "nbformat_minor": 5
}
