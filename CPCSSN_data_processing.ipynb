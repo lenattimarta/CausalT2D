{
 "cells": [
  {
   "cell_type": "markdown",
   "metadata": {},
   "source": [
    "## Data processing from raw CPCSSN data"
   ]
  },
  {
   "cell_type": "markdown",
   "metadata": {},
   "source": [
    "<b>Starting raw dataset:</b>\n",
    "<ul>\n",
    "    <li>raw dataframe extracted from the 2000-2015 portion of the CPCSSN database (multiple records for each patient) </li>\n",
    "    <li>Exclusion criteria:  age <18 years at the time of the first primary care encounter, diagnosis of Type I diabetes or gestational diabetes </li>\n",
    "    <li> for each primary care encounter, inclusion of patient's age, sex at birth, routinely extracted blood biomarkers (Fasting Plasma Glucose, High-Density Lipoproteins,Low-Density Lipoproteins, Triglycerides, Total Cholesterol), blood pressure measurements (systolic, diastolic), body mass index (BMI), prescription of specific groups of medications (antidepressants, corticosteroids, antihypertensives, cholesterol lowering medications, quit-smoking\n",
    "medications),smoking (non-smoker, former-smoker, current-smoker), and diagnosis of specific comorbidities coded in CPCSSN DiseaseCase table with related diagnosis date (hypertension, chronic obstructive pulmonary disease, depression osteoarthritis) </li>\n",
    "   <li> Inclusion of patients information up to six months prior to the diagnosis of T2D ( for patients who will develop T2D before 2015, 'T2D'=1), or information up to the last encounter available before the end of the database observation period (for CPCSSN patients who will not develop T2D before 2015, 'T2D'=0)</li>    \n",
    "<li>0 female, 1 male</li>\n",
    "    \n",
    "</ul>"
   ]
  },
  {
   "cell_type": "code",
   "execution_count": null,
   "metadata": {},
   "outputs": [],
   "source": [
    "import pandas as pd\n",
    "import numpy as np\n",
    "import math\n",
    "from datetime import datetime, timedelta\n",
    "import matplotlib.pyplot as plt\n",
    "\n",
    "pd.set_option('display.max_columns', None)"
   ]
  },
  {
   "cell_type": "code",
   "execution_count": null,
   "metadata": {},
   "outputs": [],
   "source": [
    "starting_dataset=pd.read_csv('pathname', delimiter=',')\n",
    "starting_dataset.columns \n",
    "'''{'Patient_ID', 'D', 'age', 'sex', 'sbp', 'dbp', 'BMI', 'LDL', 'HDL',\n",
    "       'TG', 'FBS', 'Total_Cholesterol', 'Depression', 'Depression_OnsetDate',\n",
    "       'HTN', 'HTN_OnsetDate', 'OA', 'OA_OnsetDate', 'COPD', 'COPD_Date',\n",
    "       'T2D', 'T2D_OnsetDate', 'antidepressant',\n",
    "       'cholesterol_lowering_meds', 'antihypertensive_meds', 'corticosteroids',\n",
    "       'smoking_meds'}'''"
   ]
  },
  {
   "cell_type": "code",
   "execution_count": null,
   "metadata": {},
   "outputs": [],
   "source": [
    "starting_dataset.dtypes"
   ]
  },
  {
   "cell_type": "markdown",
   "metadata": {},
   "source": [
    "## Extract the most recent record for each future T2D patient ('T2D'=1)"
   ]
  },
  {
   "cell_type": "code",
   "execution_count": null,
   "metadata": {},
   "outputs": [],
   "source": [
    "#Extract records of future T2D patients only\n",
    "T2DM=starting_dataset.loc[starting_dataset['T2D']==1]\n",
    "T2DM"
   ]
  },
  {
   "cell_type": "code",
   "execution_count": null,
   "metadata": {},
   "outputs": [],
   "source": [
    "#check number of unique subjects\n",
    "T2DM['Patient_ID'].nunique()"
   ]
  },
  {
   "cell_type": "code",
   "execution_count": null,
   "metadata": {},
   "outputs": [],
   "source": [
    "#Sort records by EncounterDate (D)\n",
    "sorted_T2DM = T2DM.sort_values(by='D',ascending=False)\n",
    "sorted_T2DM"
   ]
  },
  {
   "cell_type": "code",
   "execution_count": null,
   "metadata": {},
   "outputs": [],
   "source": [
    "#select the most recent encounter for each patient\n",
    "T2DM_unique = sorted_T2DM.drop_duplicates('Patient_ID', keep='first')\n",
    "T2DM_unique"
   ]
  },
  {
   "cell_type": "markdown",
   "metadata": {},
   "source": [
    "Once, the most recent encounter for each patient has been extracted, we define the <b>primary observation window</b> as the temporal window centred in 'Encounter Date' (D) +- 6 months"
   ]
  },
  {
   "cell_type": "code",
   "execution_count": null,
   "metadata": {},
   "outputs": [],
   "source": [
    "''' Evaluate presence of comorbidities before the start of the primary observation window to ensure temporal ordering between possible onset\n",
    "of comorbidities and measured biomarkers.'''\n",
    "#compute temporal distance between 'Encounter date' and 'comorbidity onset date' \n",
    "T2DM_unique.loc[:,'D_COPD_diff']=T2DM_unique.loc[:,'D']-T2DM_unique.loc[:,'COPD_Date']\n",
    "T2DM_unique.loc[:,'D_OA_diff']=T2DM_unique.loc[:,'D']-T2DM_unique.loc[:,'OA_OnsetDate']\n",
    "T2DM_unique.loc[:,'D_HTN_diff']=T2DM_unique.loc[:,'D']-T2DM_unique.loc[:,'HTN_OnsetDate']\n",
    "T2DM_unique.loc[:,'D_Depression_diff']=T2DM_unique.loc[:,'D']-T2DM_unique.loc[:,'Depression_OnsetDate']"
   ]
  },
  {
   "cell_type": "code",
   "execution_count": null,
   "metadata": {},
   "outputs": [],
   "source": [
    "#comorbidity =1 if the comorbidity onset occurred before the primary observation window\n",
    "#comorbidity= 0 if the comorbidity onset never occurred or occurred after the primary observation window\n",
    "#comorbidity= 2 if the comorbidity onset occurred within primary observation window\n",
    "#records with comorbidity=2 will be discarded\n",
    "T2DM_unique.loc[:,'COPD']=1\n",
    "T2DM_unique.loc[:,'OA']=1\n",
    "T2DM_unique.loc[:,'HTN']=1\n",
    "T2DM_unique.loc[:,'Depression']=1\n",
    "\n",
    "#put to zero all diagnoses occurred after the end of primary observation window (Encounter date+ 6 months)\n",
    "T2DM_unique.loc[T2DM_unique['D_COPD_diff']<datetime.timedelta(days=-180), 'COPD'] = 0\n",
    "T2DM_unique.loc[T2DM_unique['D_OA_diff'] <datetime.timedelta(days=-180), 'OA'] = 0\n",
    "T2DM_unique.loc[T2DM_unique['D_HTN_diff']<datetime.timedelta(days=-180), 'HTN'] = 0\n",
    "T2DM_unique.loc[T2DM_unique['D_Depression_diff'] < datetime.timedelta(days=-180), 'Depression'] = 0\n",
    "\n",
    "# put to 2 all comorbidities appearing during the interval -6months-D_date + 6months ( they will be removed to avoid temporal uncertaintes)\n",
    "T2DM_unique.loc[(T2DM_unique['D_COPD_diff']>datetime.timedelta(days=-180))&(T2DM_unique['D_COPD_diff']<datetime.timedelta(days=180)), 'COPD'] = 2\n",
    "T2DM_unique.loc[(T2DM_unique['D_OA_diff'] >datetime.timedelta(days=-180))&(T2DM_unique['D_OA_diff'] <datetime.timedelta(days=180)), 'OA'] = 2\n",
    "T2DM_unique.loc[(T2DM_unique['D_HTN_diff'] >datetime.timedelta(days=-180))&(T2DM_unique['D_HTN_diff']<datetime.timedelta(days=180)), 'HTN'] = 2\n",
    "T2DM_unique.loc[(T2DM_unique['D_Depression_diff'] > datetime.timedelta(days=-180))&(T2DM_unique['D_Depression_diff'] < datetime.timedelta(days=180)), 'Depression'] = 2\n",
    "\n",
    "# put to 0 all comorbidities with NULL on onset date (absence of a diagnosis)\n",
    "T2DM_unique.loc[T2DM_unique['D_COPD_diff'].isna(), 'COPD'] = 0\n",
    "T2DM_unique.loc[T2DM_unique['D_OA_diff'].isna(), 'OA'] = 0\n",
    "T2DM_unique.loc[T2DM_unique['D_HTN_diff'].isna(), 'HTN'] = 0\n",
    "T2DM_unique.loc[T2DM_unique['D_Depression_diff'].isna(), 'Depression'] = 0"
   ]
  },
  {
   "cell_type": "code",
   "execution_count": null,
   "metadata": {},
   "outputs": [],
   "source": [
    "#remove unnecessary columns (e.g., comorbidity onset dates, encounter date and auxiliary columns)\n",
    "T2DM_unique_final=T2DM_unique.drop(['D', 'Depression_OnsetDate','HTN_OnsetDate','OA_OnsetDate', 'COPD_Date','T2D_OnsetDate','D_COPD_diff','D_OA_diff', 'D_HTN_diff','D_Depression_diff'], axis=1)\n",
    "T2DM_unique_final"
   ]
  },
  {
   "cell_type": "markdown",
   "metadata": {},
   "source": [
    "## Extract the most recent record for patients that will not develop T2D ('T2D'=0)"
   ]
  },
  {
   "cell_type": "code",
   "execution_count": null,
   "metadata": {},
   "outputs": [],
   "source": [
    "healthy=starting_dataset.loc[starting_dataset['T2D']==0]  #non diabetic\n",
    "healthy"
   ]
  },
  {
   "cell_type": "code",
   "execution_count": null,
   "metadata": {},
   "outputs": [],
   "source": [
    "#check number of unique subjects\n",
    "healthy['Patient_ID'].nunique()"
   ]
  },
  {
   "cell_type": "code",
   "execution_count": null,
   "metadata": {},
   "outputs": [],
   "source": [
    "#Sort records by EncounterDate (D)\n",
    "sorted_healthy = healthy.sort_values(by='D',ascending=False)\n",
    "sorted_healthy"
   ]
  },
  {
   "cell_type": "code",
   "execution_count": null,
   "metadata": {},
   "outputs": [],
   "source": [
    "#select the most recent encounter for each patient\n",
    "healthy_unique = sorted_healthy.drop_duplicates('Patient_ID', keep='first')\n",
    "healthy_unique"
   ]
  },
  {
   "cell_type": "markdown",
   "metadata": {},
   "source": [
    "Once, the most recent encounter for each patient has been extracted, we define the <b>primary observation window</b> as the temporal window centred in 'Encounter Date' (D) +- 6 months"
   ]
  },
  {
   "cell_type": "code",
   "execution_count": null,
   "metadata": {},
   "outputs": [],
   "source": [
    "''' Evaluate presence of comorbidities before the start of the primary observation window to ensure temporal ordering between possible onset\n",
    "of comorbidities and measured biomarkers.'''\n",
    "#compute temporal distance between 'Encounter date' and 'comorbidity onset date'\n",
    "healthy_unique.loc[:,'D_COPD_diff']=healthy_unique.loc[:,'D']-healthy_unique.loc[:,'COPD_Date']\n",
    "healthy_unique.loc[:,'D_OA_diff']=healthy_unique.loc[:,'D']-healthy_unique.loc[:,'OA_OnsetDate']\n",
    "healthy_unique.loc[:,'D_HTN_diff']=healthy_unique.loc[:,'D']-healthy_unique.loc[:,'HTN_OnsetDate']\n",
    "healthy_unique.loc[:,'D_Depression_diff']=healthy_unique.loc[:,'D']-healthy_unique.loc[:,'Depression_OnsetDate']"
   ]
  },
  {
   "cell_type": "code",
   "execution_count": null,
   "metadata": {},
   "outputs": [],
   "source": [
    "#comorbidity =1 if the comorbidity onset occurred before the primary observation window\n",
    "#comorbidity= 0 if the comorbidity onset never occurred or occurred after the primary observation window\n",
    "#comorbidity= 2 if the comorbidity onset occurred within primary observation window\n",
    "#records with comorbidity=2 will be discarded\n",
    "healthy_unique.loc[:,'COPD']=1\n",
    "healthy_unique.loc[:,'OA']=1\n",
    "healthy_unique.loc[:,'HTN']=1\n",
    "healthy_unique.loc[:,'Depression']=1\n",
    "\n",
    "#put to zero all diagnoses occurred after the end of primary observation window (Encounter date+ 6 months)healthy_unique.loc[healthy_unique['D_COPD_diff']<datetime.timedelta(days=-180), 'COPD'] = 0\n",
    "healthy_unique.loc[healthy_unique['D_OA_diff'] <datetime.timedelta(days=-180), 'OA'] = 0\n",
    "healthy_unique.loc[healthy_unique['D_HTN_diff'] <datetime.timedelta(days=-180), 'HTN'] = 0\n",
    "healthy_unique.loc[healthy_unique['D_Depression_diff'] < datetime.timedelta(days=-180), 'Depression'] = 0\n",
    "\n",
    "# put to 2 all comorbidities appearing during the interval -6months-D_date + 6months ( they will be removed to avoid temporal uncertaintes)\n",
    "healthy_unique.loc[(healthy_unique['D_COPD_diff']<datetime.timedelta(days=180))&(healthy_unique['D_COPD_diff']>datetime.timedelta(days=-180)), 'COPD'] = 2\n",
    "healthy_unique.loc[(healthy_unique['D_OA_diff'] <datetime.timedelta(days=180))&(healthy_unique['D_OA_diff'] >datetime.timedelta(days=-180)), 'OA'] = 2\n",
    "healthy_unique.loc[(healthy_unique['D_HTN_diff'] <datetime.timedelta(days=180))&(healthy_unique['D_HTN_diff'] >datetime.timedelta(days=-180)), 'HTN'] = 2\n",
    "healthy_unique.loc[(healthy_unique['D_Depression_diff'] < datetime.timedelta(days=180))&(healthy_unique['D_Depression_diff'] >datetime.timedelta(days=-180)), 'Depression'] = 2\n",
    "\n",
    "\n",
    "# put to 0 all comorbidities with NULL on onset date (absence of a diagnosis)\n",
    "healthy_unique.loc[healthy_unique['COPD_Date'].isna(), 'COPD'] = 0\n",
    "healthy_unique.loc[healthy_unique['OA_OnsetDate'].isna(), 'OA'] = 0\n",
    "healthy_unique.loc[healthy_unique['HTN_OnsetDate'].isna(), 'HTN'] = 0\n",
    "healthy_unique.loc[healthy_unique['Depression_OnsetDate'].isna(), 'Depression'] = 0\n",
    "#remove unnecessary columns\n",
    "healthy_unique_final=healthy_unique.drop(['D', 'Depression_OnsetDate','HTN_OnsetDate','OA_OnsetDate', 'COPD_Date','T2D_OnsetDate','D_COPD_diff','D_OA_diff', 'D_HTN_diff','D_Depression_diff'], axis=1)\n",
    "healthy_unique_final\n"
   ]
  },
  {
   "cell_type": "code",
   "execution_count": null,
   "metadata": {},
   "outputs": [],
   "source": [
    "#concatenate in one single dataset\n",
    "processed_dataset=pd.concat([T2DM_unique_final, healthy_unique_final])\n",
    "processed_dataset"
   ]
  },
  {
   "cell_type": "code",
   "execution_count": null,
   "metadata": {},
   "outputs": [],
   "source": [
    "#eliminate records where comorbidity onset occurs during the observation window\n",
    "processed_dataset=processed_dataset.loc[(processed_dataset['HTN']!=2)&(processed_dataset['OA']!=2)&(processed_dataset['COPD']!=2)&(processed_dataset['Depression']!=2)]"
   ]
  },
  {
   "cell_type": "code",
   "execution_count": null,
   "metadata": {},
   "outputs": [],
   "source": [
    "processed_dataset"
   ]
  },
  {
   "cell_type": "markdown",
   "metadata": {},
   "source": [
    "##  Dataset discretization ( according to clinical guidelines)"
   ]
  },
  {
   "cell_type": "code",
   "execution_count": null,
   "metadata": {},
   "outputs": [],
   "source": [
    "processed_dataset=processed_dataset.drop(['Unnamed: 0','Patient_ID'],axis=1)"
   ]
  },
  {
   "cell_type": "code",
   "execution_count": null,
   "metadata": {},
   "outputs": [],
   "source": [
    "processed_dataset['age'] = np.where(processed_dataset['age']<45 , 0, processed_dataset['age'])#Adults\n",
    "processed_dataset['age'] = np.where((processed_dataset['age']>=45) & (processed_dataset['age']<65), 1, processed_dataset['age'])#middle aged\n",
    "processed_dataset['age'] = np.where(processed_dataset['age']>=65 , 2, processed_dataset['age'])#older adults\n",
    "\n",
    "processed_dataset['Total_Cholesterol'] = np.where(processed_dataset['Total_Cholesterol']<5.18 ,0, processed_dataset['Total_Cholesterol']) #desirable\n",
    "processed_dataset['Total_Cholesterol'] = np.where((processed_dataset['Total_Cholesterol']>=5.18) & (processed_dataset['Total_Cholesterol']<6.19) ,1, processed_dataset['Total_Cholesterol']) #borderline high\n",
    "processed_dataset['Total_Cholesterol'] = np.where(processed_dataset['Total_Cholesterol']>=6.19 ,2, processed_dataset['Total_Cholesterol']) #high\n",
    "\n",
    "processed_dataset['FPG'] = np.where(processed_dataset['FPG']<5.6 ,0, processed_dataset['FPG']) #desirable\n",
    "processed_dataset['FPG'] = np.where((processed_dataset['FPG']>=5.6) & (processed_dataset['FPG']<7) ,1, processed_dataset['FPG']) #borderline high\n",
    "processed_dataset['FPG'] = np.where(processed_dataset['FPG']>=7 ,2, processed_dataset['FPG']) #high\n",
    "\n",
    "processed_dataset['TG'] = np.where(processed_dataset['TG']<1.7 ,0, processed_dataset['TG']) #desirable\n",
    "processed_dataset['TG'] = np.where((processed_dataset['TG']>=1.7) & (processed_dataset['TG']<2.3) ,1, processed_dataset['TG']) #borderline high\n",
    "processed_dataset['TG'] = np.where((processed_dataset['TG']>=2.3) & (processed_dataset['TG']<5.7) ,2, processed_dataset['TG']) #high\n",
    "processed_dataset['TG'] = np.where(processed_dataset['TG']>=5.7 ,3, processed_dataset['TG']) #very high\n",
    "\n",
    "processed_dataset['LDL'] = np.where(processed_dataset['LDL']<2.6 ,0, processed_dataset['LDL']) #optimal\n",
    "processed_dataset['LDL'] = np.where((processed_dataset['LDL']>=2.6) & (processed_dataset['LDL']<3.4) ,1, processed_dataset['LDL']) #near optimal\n",
    "processed_dataset['LDL'] = np.where((processed_dataset['LDL']>=3.4) & (processed_dataset['LDL']<4.2) ,2, processed_dataset['LDL']) #borderline high\n",
    "processed_dataset['LDL'] = np.where((processed_dataset['LDL']>=4.2) & (processed_datasetusal_dataset['LDL']<5) ,3, processed_dataset['LDL']) #high\n",
    "processed_dataset['LDL'] = np.where(processed_dataset['LDL']>=5 ,4, processed_dataset['LDL']) #very high\n",
    "\n",
    "processed_dataset['HDL'] = np.where((((processed_dataset['HDL']<1) & (processed_dataset['sex']==1))|((processed_dataset['HDL']<1.3) & (processed_dataset['sex']==0))) ,0, processed_dataset['HDL']) #poor \n",
    "processed_dataset['HDL'] = np.where((((processed_dataset['HDL']>=1) &(processed_dataset['HDL']<=1.5) & (processed_dataset['sex']==1))|((processed_dataset['HDL']>=1.3) &(processed_dataset['HDL']<=1.5) & (processed_dataset['sex']==0))) ,1, processed_dataset['HDL']) #better \n",
    "processed_dataset['HDL'] = np.where(processed_dataset['HDL']>1.5 ,2, processed_dataset['HDL']) #best\n",
    "\n",
    "processed_dataset['BMI'] = np.where(processed_dataset['BMI']<18.5 ,0, processed_dataset['BMI']) \n",
    "processed_dataset['BMI'] = np.where((processed_dataset['BMI']>=18.5) & (processed_dataset['BMI']<25) ,1, processed_dataset['BMI']) \n",
    "processed_dataset['BMI'] = np.where((processed_dataset['BMI']>=25) & (processed_dataset['BMI']<30) ,2, processed_dataset['BMI']) \n",
    "processed_dataset['BMI'] = np.where((processed_dataset['BMI']>=30) & (processed_dataset['BMI']<35) ,3, processed_dataset['BMI'])\n",
    "processed_dataset['BMI'] = np.where((processed_dataset['BMI']>=35) & (processed_dataset['BMI']<40) ,4, processed_dataset['BMI']) \n",
    "processed_dataset['BMI'] = np.where(processed_dataset['BMI']>=40 ,5, processed_dataset['BMI'])\n",
    "\n",
    "#sBP+dBP\n",
    "processed_dataset['Pressure'] = 0\n",
    "processed_dataset['Pressure'] = np.where((processed_dataset['sbp']<120) & (processed_dataset['dbp']<80),0, processed_dataset['Pressure']) \n",
    "processed_dataset['Pressure'] = np.where(((processed_dataset['sbp']>=120) & (processed_dataset['sbp']<=129)& (processed_dataset['dbp']<80)) ,1, processed_dataset['Pressure']) \n",
    "processed_dataset['Pressure'] = np.where((((processed_dataset['sbp']>=130) & (processed_dataset['sbp']<=139))| ((processed_dataset['dbp']>=80)&(processed_dataset['dbp']<=89))) ,2, processed_dataset['Pressure']) \n",
    "processed_dataset['Pressure'] = np.where(((processed_dataset['sbp']>=140)| (processed_dataset['dbp']>=90)) ,3, df['Pressure']) \n",
    "processed_dataset=processed_dataset.drop(['sbp','dbp'],axis=1)\n",
    "processed_dataset.describe()"
   ]
  },
  {
   "cell_type": "code",
   "execution_count": null,
   "metadata": {},
   "outputs": [],
   "source": [
    "processed_dataset.to_csv('processed_dataset.csv')\n",
    "'''save processed dataset: \n",
    "-records of the processed dataset without missing values (86618 records) will be used as training set for causal discovery \n",
    "of the global causal model\n",
    "-records with missing values, but complete information about {'age', 'sex', 'sbp', 'dbp', 'BMI','LDL', 'HDL','TG', 'FPG', 'T2D'}\n",
    "(31864 records) will be used as test set with the aim of deriving an intervention set for counterfactual inference\n",
    "'''"
   ]
  }
 ],
 "metadata": {
  "kernelspec": {
   "display_name": "Python 3 (ipykernel)",
   "language": "python",
   "name": "python3"
  },
  "language_info": {
   "codemirror_mode": {
    "name": "ipython",
    "version": 3
   },
   "file_extension": ".py",
   "mimetype": "text/x-python",
   "name": "python",
   "nbconvert_exporter": "python",
   "pygments_lexer": "ipython3",
   "version": "3.8.13"
  }
 },
 "nbformat": 4,
 "nbformat_minor": 2
}
